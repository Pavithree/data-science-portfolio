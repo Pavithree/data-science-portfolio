{
 "cells": [
  {
   "cell_type": "markdown",
   "metadata": {},
   "source": [
    "# CNN cat or dog classification"
   ]
  },
  {
   "cell_type": "markdown",
   "metadata": {},
   "source": [
    "This project aims at classification of images consisting of cats and dogs into their respective classes using deep learning model-Convolutional Neural Network.\n",
    "\n",
    "The dataset for this project is obtained from https://www.udemy.com/course/machinelearning/learn/lecture/6761138#overview "
   ]
  },
  {
   "cell_type": "code",
   "execution_count": 1,
   "metadata": {},
   "outputs": [
    {
     "name": "stderr",
     "output_type": "stream",
     "text": [
      "Using TensorFlow backend.\n"
     ]
    }
   ],
   "source": [
    "import tensorflow as tf\n",
    "from keras.preprocessing.image import ImageDataGenerator\n",
    "from IPython.display import display\n",
    "from PIL import Image\n",
    "import PIL.Image\n"
   ]
  },
  {
   "cell_type": "markdown",
   "metadata": {},
   "source": [
    "# Data Preprocessing"
   ]
  },
  {
   "cell_type": "markdown",
   "metadata": {},
   "source": [
    "The data pre-processing stage for this project includes following steps:\n",
    "\n",
    "1)Resize all the images to (64,64)\n",
    "\n",
    "2) Inorder to avoid overfitting we apply geometric transformation like moving certain number of pixels\n",
    "zoom in , horizontal flips. Training dataset now consists of a combination of both augumented images and original images. \n",
    "\n",
    "3) Normalising the pixel values by dividing each pixel value by 255(max pixel value)"
   ]
  },
  {
   "cell_type": "code",
   "execution_count": 2,
   "metadata": {},
   "outputs": [
    {
     "name": "stdout",
     "output_type": "stream",
     "text": [
      "Found 8000 images belonging to 2 classes.\n"
     ]
    }
   ],
   "source": [
    "train_datagen = ImageDataGenerator(rescale = 1./255, #feature scaling\n",
    "                                   shear_range = 0.2,\n",
    "                                   zoom_range = 0.2,\n",
    "                                   width_shift_range= 0.2, height_shift_range= 0.2,\n",
    "                                   rotation_range= 90,\n",
    "                                   horizontal_flip= True, vertical_flip=True)\n",
    "training_set = train_datagen.flow_from_directory('C:/Users/Pavithre B Shetty/Desktop/web/cnn/dataset/training_set',\n",
    "                                                 target_size = (64, 64),\n",
    "                                                 batch_size = 32,\n",
    "                                                 class_mode = 'binary') # or categorical"
   ]
  },
  {
   "cell_type": "code",
   "execution_count": 3,
   "metadata": {},
   "outputs": [
    {
     "name": "stdout",
     "output_type": "stream",
     "text": [
      "Found 2000 images belonging to 2 classes.\n"
     ]
    }
   ],
   "source": [
    "test_datagen = ImageDataGenerator(rescale = 1./255)\n",
    "test_set = test_datagen.flow_from_directory('C:/Users/Pavithre B Shetty/Desktop/web/cnn/dataset/test_set',\n",
    "                                            target_size = (64, 64),\n",
    "                                            batch_size = 32,\n",
    "                                            class_mode = 'binary')"
   ]
  },
  {
   "cell_type": "markdown",
   "metadata": {},
   "source": [
    "# Model Building"
   ]
  },
  {
   "cell_type": "markdown",
   "metadata": {},
   "source": [
    "The basic Convolutional Neural Network structure is shown below:\n",
    "Convolution -> Pooling -> Convolution -> Pooling -> Fully Connected Layer -> Output\n",
    "\n",
    "Convolution Layer : A convolution is the simple application of a filter to an input that results in an activation. Repeated application of the same filter to an input results in a map of activations called a feature map, indicating the locations and strength of a detected feature in an input, such as an image.\n",
    "\n",
    "Relu Activation function: A activation function is mainly used to introduce certain non-linearity to the model. ReLu() lets positive values pass through it while filtering negative values by making them 0.\n",
    "\n",
    "Pooling:The pooling layer reduces the size of the image without information loss. Here we have choosen max pooling.\n",
    "\n",
    "Fully Connected Layer: Consists of input layer, hidden layers and output layer.\n",
    "\n",
    "\n"
   ]
  },
  {
   "cell_type": "code",
   "execution_count": 19,
   "metadata": {},
   "outputs": [],
   "source": [
    "#Create tensor from sequential class\n",
    "#We will add all our layers to the tensor object\n",
    "cnn = tf.keras.models.Sequential()"
   ]
  },
  {
   "cell_type": "code",
   "execution_count": 20,
   "metadata": {},
   "outputs": [],
   "source": [
    "#First Convolutional Layer\n",
    "cnn.add(tf.keras.layers.Conv2D(filters=32, kernel_size=3, activation='relu', input_shape=[64, 64,3]))"
   ]
  },
  {
   "cell_type": "code",
   "execution_count": 21,
   "metadata": {},
   "outputs": [],
   "source": [
    "cnn.add(tf.keras.layers.MaxPool2D(pool_size=2, strides=2))"
   ]
  },
  {
   "cell_type": "code",
   "execution_count": 22,
   "metadata": {},
   "outputs": [],
   "source": [
    "#Second Convolutional Layer\n",
    "cnn.add(tf.keras.layers.Conv2D(filters=32, kernel_size=3, activation='relu'))\n",
    "cnn.add(tf.keras.layers.MaxPool2D(pool_size=2, strides=2))"
   ]
  },
  {
   "cell_type": "code",
   "execution_count": 23,
   "metadata": {},
   "outputs": [],
   "source": [
    "#Third Convolutional Layer\n",
    "cnn.add(tf.keras.layers.Conv2D(filters=32, kernel_size=3, activation='relu'))\n",
    "cnn.add(tf.keras.layers.MaxPool2D(pool_size=2, strides=2))"
   ]
  },
  {
   "cell_type": "code",
   "execution_count": 24,
   "metadata": {},
   "outputs": [],
   "source": [
    "#Flattening the input \n",
    "cnn.add(tf.keras.layers.Flatten())"
   ]
  },
  {
   "cell_type": "code",
   "execution_count": 25,
   "metadata": {},
   "outputs": [],
   "source": [
    "#Fully connected layer\n",
    "cnn.add(tf.keras.layers.Dense(units=128, activation='relu'))\n",
    "cnn.add(tf.keras.layers.Dense(units=32, activation='relu'))"
   ]
  },
  {
   "cell_type": "code",
   "execution_count": 26,
   "metadata": {},
   "outputs": [],
   "source": [
    "#Output Layer\n",
    "cnn.add(tf.keras.layers.Dense(units=1, activation='sigmoid'))"
   ]
  },
  {
   "cell_type": "code",
   "execution_count": 27,
   "metadata": {},
   "outputs": [],
   "source": [
    "#set optimizer to upadte the weights, a loss function which needs to be optimised and an evaluation metrics \n",
    "cnn.compile(optimizer = 'adam', loss = 'binary_crossentropy', metrics = ['accuracy'])"
   ]
  },
  {
   "cell_type": "code",
   "execution_count": 28,
   "metadata": {},
   "outputs": [
    {
     "name": "stdout",
     "output_type": "stream",
     "text": [
      "WARNING:tensorflow:sample_weight modes were coerced from\n",
      "  ...\n",
      "    to  \n",
      "  ['...']\n",
      "WARNING:tensorflow:sample_weight modes were coerced from\n",
      "  ...\n",
      "    to  \n",
      "  ['...']\n",
      "Train for 250 steps, validate for 63 steps\n",
      "Epoch 1/25\n",
      "250/250 [==============================] - 53s 212ms/step - loss: 0.6925 - accuracy: 0.5220 - val_loss: 0.6907 - val_accuracy: 0.5115\n",
      "Epoch 2/25\n",
      "250/250 [==============================] - 52s 210ms/step - loss: 0.6738 - accuracy: 0.5789 - val_loss: 0.6951 - val_accuracy: 0.5705\n",
      "Epoch 3/25\n",
      "250/250 [==============================] - 59s 237ms/step - loss: 0.6658 - accuracy: 0.5938 - val_loss: 0.6658 - val_accuracy: 0.5865\n",
      "Epoch 4/25\n",
      "250/250 [==============================] - 54s 215ms/step - loss: 0.6497 - accuracy: 0.6220 - val_loss: 0.7280 - val_accuracy: 0.5435\n",
      "Epoch 5/25\n",
      "250/250 [==============================] - 56s 224ms/step - loss: 0.6423 - accuracy: 0.6281 - val_loss: 0.6225 - val_accuracy: 0.6570\n",
      "Epoch 6/25\n",
      "250/250 [==============================] - 53s 212ms/step - loss: 0.6323 - accuracy: 0.6378 - val_loss: 0.6335 - val_accuracy: 0.6080\n",
      "Epoch 7/25\n",
      "250/250 [==============================] - 56s 223ms/step - loss: 0.6260 - accuracy: 0.6407 - val_loss: 0.6012 - val_accuracy: 0.6805\n",
      "Epoch 8/25\n",
      "250/250 [==============================] - 51s 204ms/step - loss: 0.6126 - accuracy: 0.6569 - val_loss: 0.6097 - val_accuracy: 0.6605\n",
      "Epoch 9/25\n",
      "250/250 [==============================] - 49s 195ms/step - loss: 0.6061 - accuracy: 0.6665 - val_loss: 0.5635 - val_accuracy: 0.7115\n",
      "Epoch 10/25\n",
      "250/250 [==============================] - 49s 196ms/step - loss: 0.5964 - accuracy: 0.6781 - val_loss: 0.5687 - val_accuracy: 0.7070\n",
      "Epoch 11/25\n",
      "250/250 [==============================] - 49s 194ms/step - loss: 0.5891 - accuracy: 0.6785 - val_loss: 0.6344 - val_accuracy: 0.6120\n",
      "Epoch 12/25\n",
      "250/250 [==============================] - 53s 213ms/step - loss: 0.5918 - accuracy: 0.6784 - val_loss: 0.5497 - val_accuracy: 0.7265\n",
      "Epoch 13/25\n",
      "250/250 [==============================] - 51s 204ms/step - loss: 0.5825 - accuracy: 0.6894 - val_loss: 0.5357 - val_accuracy: 0.7325\n",
      "Epoch 14/25\n",
      "250/250 [==============================] - 50s 201ms/step - loss: 0.5790 - accuracy: 0.6969 - val_loss: 0.5745 - val_accuracy: 0.7045\n",
      "Epoch 15/25\n",
      "250/250 [==============================] - 50s 200ms/step - loss: 0.5702 - accuracy: 0.7021 - val_loss: 0.5409 - val_accuracy: 0.7185\n",
      "Epoch 16/25\n",
      "250/250 [==============================] - 50s 202ms/step - loss: 0.5758 - accuracy: 0.7021 - val_loss: 0.5511 - val_accuracy: 0.7260\n",
      "Epoch 17/25\n",
      "250/250 [==============================] - 50s 201ms/step - loss: 0.5658 - accuracy: 0.7036 - val_loss: 0.5415 - val_accuracy: 0.7420\n",
      "Epoch 18/25\n",
      "250/250 [==============================] - 50s 200ms/step - loss: 0.5585 - accuracy: 0.7103 - val_loss: 0.5312 - val_accuracy: 0.7445\n",
      "Epoch 19/25\n",
      "250/250 [==============================] - 51s 203ms/step - loss: 0.5574 - accuracy: 0.7136 - val_loss: 0.5295 - val_accuracy: 0.7455\n",
      "Epoch 20/25\n",
      "250/250 [==============================] - 50s 200ms/step - loss: 0.5606 - accuracy: 0.7119 - val_loss: 0.5416 - val_accuracy: 0.7160\n",
      "Epoch 21/25\n",
      "250/250 [==============================] - 50s 199ms/step - loss: 0.5516 - accuracy: 0.7151 - val_loss: 0.5272 - val_accuracy: 0.7505\n",
      "Epoch 22/25\n",
      "250/250 [==============================] - 50s 200ms/step - loss: 0.5511 - accuracy: 0.7197 - val_loss: 0.4969 - val_accuracy: 0.7700\n",
      "Epoch 23/25\n",
      "250/250 [==============================] - 51s 202ms/step - loss: 0.5489 - accuracy: 0.7190 - val_loss: 0.5113 - val_accuracy: 0.7525\n",
      "Epoch 24/25\n",
      "250/250 [==============================] - 48s 193ms/step - loss: 0.5453 - accuracy: 0.7193 - val_loss: 0.5286 - val_accuracy: 0.7410\n",
      "Epoch 25/25\n",
      "250/250 [==============================] - 49s 194ms/step - loss: 0.5503 - accuracy: 0.7224 - val_loss: 0.5226 - val_accuracy: 0.7455\n"
     ]
    },
    {
     "data": {
      "text/plain": [
       "<tensorflow.python.keras.callbacks.History at 0x21bd020ab08>"
      ]
     },
     "execution_count": 28,
     "metadata": {},
     "output_type": "execute_result"
    }
   ],
   "source": [
    "cnn.fit(x = training_set, validation_data = test_set, epochs = 25)"
   ]
  },
  {
   "cell_type": "code",
   "execution_count": 14,
   "metadata": {},
   "outputs": [],
   "source": [
    "#Testing a image\n",
    "test_img = 'c:/Users/Pavithre B Shetty/Desktop/web/cnn/dataset/single_prediction/cat.4002.jpg'"
   ]
  },
  {
   "cell_type": "code",
   "execution_count": 15,
   "metadata": {},
   "outputs": [
    {
     "name": "stdout",
     "output_type": "stream",
     "text": [
      "dog\n"
     ]
    }
   ],
   "source": [
    "#pre-processing image\n",
    "import numpy as np\n",
    "from keras.preprocessing import image\n",
    "test_image = image.load_img(test_img, target_size = (64, 64))\n",
    "test_image = image.img_to_array(test_image)\n",
    "test_image = np.expand_dims(test_image, axis = 0)\n",
    "result = cnn.predict(test_image)\n",
    "training_set.class_indices\n",
    "if result[0][0] == 1:\n",
    "    prediction = 'dog'\n",
    "else:\n",
    "      prediction = 'cat'\n",
    "print(prediction)"
   ]
  },
  {
   "cell_type": "code",
   "execution_count": 16,
   "metadata": {},
   "outputs": [],
   "source": [
    "#Saving the model for django integration\n",
    "cnn.save('CnnCatOrDogClassifier.h5')"
   ]
  },
  {
   "cell_type": "code",
   "execution_count": 17,
   "metadata": {},
   "outputs": [],
   "source": [
    "from tensorflow.keras.models import load_model\n",
    "\n",
    "model = load_model('CnnCatOrDogClassifier.h5')"
   ]
  }
 ],
 "metadata": {
  "kernelspec": {
   "display_name": "Python 3",
   "language": "python",
   "name": "python3"
  },
  "language_info": {
   "codemirror_mode": {
    "name": "ipython",
    "version": 3
   },
   "file_extension": ".py",
   "mimetype": "text/x-python",
   "name": "python",
   "nbconvert_exporter": "python",
   "pygments_lexer": "ipython3",
   "version": "3.7.9"
  }
 },
 "nbformat": 4,
 "nbformat_minor": 4
}
