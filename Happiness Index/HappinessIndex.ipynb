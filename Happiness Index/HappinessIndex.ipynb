{
 "cells": [
  {
   "cell_type": "markdown",
   "metadata": {},
   "source": [
    "# Happiness Index of various countries \n"
   ]
  },
  {
   "cell_type": "markdown",
   "metadata": {},
   "source": [
    "This project gives some statistical details of happiness index of all the countries spread across 7 continents.\n",
    "The dataset for this project is scarped from wikipedia sites using Beautifulsoup.\n",
    "The continent to country list is scarped from https://simple.wikipedia.org/wiki/List_of_countries_by_continents\n",
    "The happiness index dataset is scraped from https://en.wikipedia.org/wiki/World_Happiness_Report#2019_report\n",
    "These two datasets are later merged to get the complete dataset"
   ]
  },
  {
   "cell_type": "code",
   "execution_count": 1,
   "metadata": {},
   "outputs": [],
   "source": [
    "from bs4 import BeautifulSoup\n",
    "import requests\n",
    "import pandas as pd\n",
    "import matplotlib.pyplot as plt\n",
    "import seaborn as sns\n"
   ]
  },
  {
   "cell_type": "markdown",
   "metadata": {},
   "source": [
    "# Data preprocessing"
   ]
  },
  {
   "cell_type": "markdown",
   "metadata": {},
   "source": [
    "Scapping list of countries by continent. This is our first dataset."
   ]
  },
  {
   "cell_type": "code",
   "execution_count": 2,
   "metadata": {},
   "outputs": [],
   "source": [
    "#Getting the response from wikipedia server\n",
    "page = requests.get(\"https://simple.wikipedia.org/wiki/List_of_countries_by_continents\")\n",
    "soup = BeautifulSoup(page.content,\"html.parser\")\n"
   ]
  },
  {
   "cell_type": "code",
   "execution_count": 3,
   "metadata": {},
   "outputs": [],
   "source": [
    "#Writing the page_content to a file  \n",
    "out = open(\"wikiCountries_html\",\"w\",encoding=\"utf-8\")\n",
    "out.write(str(soup))\n",
    "out.close()"
   ]
  },
  {
   "cell_type": "code",
   "execution_count": 4,
   "metadata": {},
   "outputs": [
    {
     "name": "stdout",
     "output_type": "stream",
     "text": [
      "List of countries by continents - Simple English Wikipedia, the free encyclopedia\n"
     ]
    }
   ],
   "source": [
    "#printing the title of the page\n",
    "soup = BeautifulSoup(open(\"wikiCountries_html\",encoding=\"utf-8\"),\"html.parser\")\n",
    "title = soup.find('title').get_text()\n",
    "print(title.strip())"
   ]
  },
  {
   "cell_type": "code",
   "execution_count": 5,
   "metadata": {},
   "outputs": [
    {
     "name": "stdout",
     "output_type": "stream",
     "text": [
      "['Africa', 'Asia', 'Europe', 'North America', 'South America', 'Oceania']\n"
     ]
    }
   ],
   "source": [
    "#continents[] : list of all continents\n",
    "\n",
    "headers = soup.find_all('h2')\n",
    "continents = []\n",
    "for item in headers:\n",
    "    continents.append(item.get_text().strip().split('[')[0])\n",
    "continents.remove('Contents')\n",
    "continents.remove('Antarctica')\n",
    "del continents[-3:]\n",
    "print(continents)"
   ]
  },
  {
   "cell_type": "code",
   "execution_count": 6,
   "metadata": {},
   "outputs": [
    {
     "name": "stdout",
     "output_type": "stream",
     "text": [
      "{'Africa': ['Algeria - Algiers', 'Angola - Luanda', 'Benin - Porto Novo, Cotonou', 'Botswana - Gaborone', 'Burkina Faso - Ouagadougou', 'Burundi - Gitega', 'Cameroon (also spelled Cameroun) - Yaoundé', 'Cape Verde - Praia', 'Central African Republic - Bangui', \"Chad (Tchad) - N'Djamena\", 'Comoros - Moroni', 'Republic of the Congo - Brazzaville', 'Democratic Republic of the Congo (Zaire) - Kinshasa', \"Côte d'Ivoire (Ivory Coast) - Yamoussoukro\", 'Djibouti - Djibouti', 'Equatorial Guinea - Malabo', 'Egypt (Misr) - Cairo', 'Eritrea - Asmara', 'Ethiopia (Abyssinia) - Addis Ababa', 'Gabon - Libreville', 'The Gambia - Banjul', 'Ghana - Accra', 'Guinea - Conakry', 'Guinea-Bissau - Bissau', 'Kenya - Nairobi', 'Lesotho - Maseru', 'Liberia - Monrovia', 'Libya - Tripoli', 'Madagascar - Antananarivo', 'Malawi - Lilongwe', 'Mali - Bamako', 'Mauritania - Nouakchott', 'Mauritius - Port Louis', 'Morocco (Al Maghrib) - Rabat', 'Mozambique - Maputo', 'Namibia - Windhoek', 'Niger - Niamey', 'Nigeria - Abuja', 'Rwanda - Kigali', 'São Tomé and Príncipe - São Tomé', 'Senegal - Dakar', 'Seychelles - Victoria', 'Sierra Leone - Freetown', 'Somalia - Mogadishu', 'South Africa -  Pretoria', 'South Sudan - Juba', 'Sudan - Khartoum', 'Swaziland (Eswatini) - Mbabane', 'Tanzania - Dodoma', 'Togo - Lome', 'Tunisia - Tunis', 'Uganda - Kampala', 'Western Sahara - El Aaiún (disputed)', 'Zambia - Lusaka', 'Zimbabwe - Harare'], 'Asia': ['Afghanistan - Kabul', 'Armenia - Yerevan', 'Azerbaijan - Baku', 'Bahrain - Manama', 'Bangladesh [1](বাংলাদেশ) - Dhaka (ঢাকা)', 'Bhutan - Thimphu', 'Brunei - Bandar Seri Begawan', 'Cambodia (Kampuchea) - Phnom Penh', 'China - Beijing', 'East Timor (Timor Leste) - Dili', 'Georgia - Tbilisi', 'India - New Delhi', 'Indonesia - Jakarta', 'Iran - Tehran', 'Iraq - Baghdad', 'Israel - Jerusalem', 'Japan - Tokyo', 'Jordan (Al Urdun) - Amman', 'Kazakhstan - Nur-Sultan', 'Kuwait - Kuwait City', 'Kyrgyzstan - Bishkek', 'Laos - Vientiane', 'Lebanon (Lubnan) - Beirut', 'Malaysia - Kuala Lumpur', 'Maldives - Malé', 'Mongolia - Ulaanbaatar', 'Myanmar (Burma) - Naypyidaw', 'Nepal - Kathmandu', 'North Korea - Pyongyang', 'Oman - Muscat', 'Pakistan - Islamabad', 'Palestine - Ramallah', 'Philippines - Manila', 'Qatar - Doha', 'Russia - Moscow (Russia is a part of Asia geographically, but, politically, it is a part of Europe)', 'Saudi Arabia - Riyadh', 'Singapore - Singapore', 'South Korea - Seoul', 'Sri Lanka - Sri Jayawardenapura Kotte (administrative), Colombo (commercial)', 'Syria - Damascus', 'Tajikistan - Dushanbe', 'Thailand (Muang Thai) - Bangkok', 'Turkey - Ankara', 'Turkmenistan - Aşgabat', 'Taiwan - Taipei', 'United Arab Emirates - Abu Dhabi', 'Uzbekistan - Tashkent', 'Vietnam - Hanoi', \"Yemen - Sana'a\"], 'Europe': ['Albania (Shqipëria) - Tirana', 'Andorra - Andorra la Vella', 'Austria (Österreich) - Vienna', 'Belarus (Беларусь) - Minsk', 'Belgium (Dutch: België, French: Belgique, German: Belgien) - Brussels', 'Bosnia and Herzegovina (Bosna i Hercegovina) - Sarajevo', 'Bulgaria (България) - Sofia', 'Croatia (Hrvatska) - Zagreb', 'Cyprus (Κύπρος) - Nicosia', 'Czech Republic (Česko) - Prague', 'Denmark (Danmark) - Copenhagen', 'Estonia (Eesti) - Tallinn', 'Finland (Suomi) - Helsinki', 'Georgia - Tbilisi', 'Germany (Deutschland) - Berlin', 'Greece (Ελλάδα) - Athens', 'Hungary (Magyarország) - Budapest', 'Iceland** (Island) - Reykjavik', 'Republic of Ireland (Éire) - Dublin', 'Italy (Italia) - Rome', '', 'Kosovo** - Pristina', 'Latvia (Latvija) - Riga', 'Liechtenstein - Vaduz', 'Lithuania (Lietuva) - Vilnius', 'Luxembourg - Luxembourg City', 'North Macedonia (Македонија) - Skopje', 'Malta - Valletta', 'Moldova - Chisinau', 'Monaco - Monte Carlo Quarter', 'Montenegro (Crna Gora, Црна Гора) - Podgorica', 'Netherlands (Nederland) - Amsterdam (Capital), The Hague (Government)', 'Norway (Norge) - Oslo', 'Poland (Polska) - Warsaw', 'Portugal - Lisbon', 'Romania - Bucharest', 'Russia** Moscow (Europe up to the Ural Mountains; Asia: the rest to Vladivostok)', 'San Marino - San Marino', 'Serbia (Србија) - Belgrade', 'Slovakia (Slovensko) - Bratislava', 'Slovenia (Slovenija) - Ljubljana', 'France - Paris', 'Spain (España) - Madrid', 'Sweden (Sverige) - Stockholm', 'Switzerland (German: Schweiz, French: Suisse, Italian: Svizzera, Romansh: Svizra) - Berna', 'Turkey', 'Ukraine (Україна) - Kyiv or Kiev', 'United Kingdom - London', 'Vatican City** (Italian: Città del Vaticano, Latin: Civitas Vaticana) - Vatican City'], 'North America': ['Canada - Ottawa', 'United States of America - Washington, District of Columbia', 'Mexico - Mexico City', 'Belize - Belmopan ( Central America)', \"Antigua and Barbuda - St. John's\", 'Anguilla - The Valley (territory of U.K.)', 'Aruba - Oranjestad (Constituent country of the Kingdom of the Netherlands)', 'The Bahamas - Nassau', 'Barbados - Bridgetown', 'Bermuda - Hamilton (territory of U.K.)', 'Bonaire - part of the Netherlands', 'British Virgin Islands - Road Town (territory of U.K.)', 'Cayman Islands - George Town (territory of U.K.)', 'Clipperton Island - (territory of France)', 'Costa Rica - San José ( Central America)', 'Cuba - Havana', 'Curaçao - Willemstad (Constituent country of the Kingdom of the Netherlands)', 'Dominica - Roseau', 'Dominican Republic (Republica Dominicana) - Santo Domingo', 'El Salvador - San Salvador ( Central America)', 'Greenland - Nuuk (territory of Denmark)', \"Grenada - St George's\", 'Guadeloupe - (territory of France)', 'Guatemala - Guatemala City', 'Haiti - Port-au-Prince', 'Honduras - Tegucigalpa ( Central America)', 'Jamaica - Kingston', 'Martinique - Fort-de-France Bay (territory of France)', 'Montserrat - Plymouth, Brades, Little Bay (territory of U.K.)', 'Navassa Island - Washington, D.C. (territory of U.S.)', 'Nicaragua - Managua ( Central America)', 'Panama (Panamá) - Panama City ( Central America)', 'Puerto Rico - San Juan (territory of U.S.)', 'Saba - The Bottom  (territory of Netherlands)', 'Saint Barthelemy - Gustavia (territory of France)', 'Saint Kitts and Nevis - Basseterre', 'Saint Lucia - Castries', 'Saint Martin - Marigot (territory of France)', 'Saint Pierre and Miquelon - Saint-Pierre (territory of France)', 'Saint Vincent and the Grenadines - Kingstown', 'Sint Eustatius - Oranjestad  (territory of Netherlands)', 'Sint Maarten - Philipsburg (Constituent country of the Kingdom of the Netherlands)', 'Trinidad and Tobago - Port of Spain', 'Turks and Caicos - Cockburn Town (British Overseas Territory)', 'US Virgin Islands - Charlotte Amalie (territory of U.S.)'], 'South America': ['Brazil (Brasil) - Brasília', 'Argentina - Buenos Aires', 'Bolivia - Sucré', 'Chile - Santiago', 'Colombia - Bogotá', 'Ecuador - Quito', 'Falkland Islands - Stanley (territory of U.K.)', 'French Guiana - Cayenne (territory of France)', 'Guyana - Georgetown', 'Paraguay - Asunción', 'Peru - Lima', 'South Georgia and the South Sandwich Islands - (territory of U.K.)', 'Suriname - Paramaribo', 'Uruguay - Montevideo', 'Venezuela - Caracas'], 'Oceania': ['Australia - Canberra', 'Fiji - Suva', 'New Zealand - Wellington', 'Federated States of Micronesia - Palikir', 'Kiribati - South Tarawa', 'Marshall Islands - Majuro', 'Nauru - no capital; biggest city is Yaren', 'Palau - Ngerulmud', 'Papua New Guinea - Port Moresby', 'Samoa - Apia', 'Solomon Islands - Honiara', \"Tonga - Nuku'alofa\", 'Tuvalu - Funafuti', 'Vanuatu - Port Vila']}\n"
     ]
    }
   ],
   "source": [
    "#dict_countryContinent : Dictionary consisting of continents as keys and its set of contries as list of values\n",
    "\n",
    "dict_countryContinent = {}\n",
    "ordered_list = soup.find_all('ol')\n",
    "\n",
    "countiCounter = 0\n",
    "for conti in continents:\n",
    "    countryASubList = (ordered_list[countiCounter].get_text().strip().split(\"\\n\"))\n",
    "    dict_countryContinent[conti] = countryASubList\n",
    "    countiCounter = countiCounter + 1\n",
    "        \n",
    "print(dict_countryContinent)"
   ]
  },
  {
   "cell_type": "code",
   "execution_count": 7,
   "metadata": {},
   "outputs": [
    {
     "data": {
      "text/html": [
       "<div>\n",
       "<style scoped>\n",
       "    .dataframe tbody tr th:only-of-type {\n",
       "        vertical-align: middle;\n",
       "    }\n",
       "\n",
       "    .dataframe tbody tr th {\n",
       "        vertical-align: top;\n",
       "    }\n",
       "\n",
       "    .dataframe thead th {\n",
       "        text-align: right;\n",
       "    }\n",
       "</style>\n",
       "<table border=\"1\" class=\"dataframe\">\n",
       "  <thead>\n",
       "    <tr style=\"text-align: right;\">\n",
       "      <th></th>\n",
       "      <th>Continents</th>\n",
       "      <th>Country or region</th>\n",
       "    </tr>\n",
       "  </thead>\n",
       "  <tbody>\n",
       "    <tr>\n",
       "      <th>0</th>\n",
       "      <td>Africa</td>\n",
       "      <td>Algeria - Algiers</td>\n",
       "    </tr>\n",
       "    <tr>\n",
       "      <th>1</th>\n",
       "      <td>Africa</td>\n",
       "      <td>Angola - Luanda</td>\n",
       "    </tr>\n",
       "    <tr>\n",
       "      <th>2</th>\n",
       "      <td>Africa</td>\n",
       "      <td>Benin - Porto Novo, Cotonou</td>\n",
       "    </tr>\n",
       "    <tr>\n",
       "      <th>3</th>\n",
       "      <td>Africa</td>\n",
       "      <td>Botswana - Gaborone</td>\n",
       "    </tr>\n",
       "    <tr>\n",
       "      <th>4</th>\n",
       "      <td>Africa</td>\n",
       "      <td>Burkina Faso - Ouagadougou</td>\n",
       "    </tr>\n",
       "    <tr>\n",
       "      <th>...</th>\n",
       "      <td>...</td>\n",
       "      <td>...</td>\n",
       "    </tr>\n",
       "    <tr>\n",
       "      <th>222</th>\n",
       "      <td>Oceania</td>\n",
       "      <td>Samoa - Apia</td>\n",
       "    </tr>\n",
       "    <tr>\n",
       "      <th>223</th>\n",
       "      <td>Oceania</td>\n",
       "      <td>Solomon Islands - Honiara</td>\n",
       "    </tr>\n",
       "    <tr>\n",
       "      <th>224</th>\n",
       "      <td>Oceania</td>\n",
       "      <td>Tonga - Nuku'alofa</td>\n",
       "    </tr>\n",
       "    <tr>\n",
       "      <th>225</th>\n",
       "      <td>Oceania</td>\n",
       "      <td>Tuvalu - Funafuti</td>\n",
       "    </tr>\n",
       "    <tr>\n",
       "      <th>226</th>\n",
       "      <td>Oceania</td>\n",
       "      <td>Vanuatu - Port Vila</td>\n",
       "    </tr>\n",
       "  </tbody>\n",
       "</table>\n",
       "<p>227 rows × 2 columns</p>\n",
       "</div>"
      ],
      "text/plain": [
       "    Continents            Country or region\n",
       "0       Africa            Algeria - Algiers\n",
       "1       Africa              Angola - Luanda\n",
       "2       Africa  Benin - Porto Novo, Cotonou\n",
       "3       Africa          Botswana - Gaborone\n",
       "4       Africa   Burkina Faso - Ouagadougou\n",
       "..         ...                          ...\n",
       "222    Oceania                 Samoa - Apia\n",
       "223    Oceania    Solomon Islands - Honiara\n",
       "224    Oceania           Tonga - Nuku'alofa\n",
       "225    Oceania            Tuvalu - Funafuti\n",
       "226    Oceania          Vanuatu - Port Vila\n",
       "\n",
       "[227 rows x 2 columns]"
      ]
     },
     "execution_count": 7,
     "metadata": {},
     "output_type": "execute_result"
    }
   ],
   "source": [
    "#df     : Creating a dataframe from dict_countryContinent\n",
    "#new_df : stacking all the countries into a single column - country or region\n",
    "\n",
    "df = pd.DataFrame.from_dict(dict_countryContinent, orient='index')\n",
    "new_df = df.stack().reset_index(level=1, drop=True).to_frame(name='Country or region')\n",
    "new_df.reset_index(inplace=True)\n",
    "new_df = new_df.rename(columns = {'index':'Continents'})\n",
    "new_df"
   ]
  },
  {
   "cell_type": "code",
   "execution_count": 8,
   "metadata": {},
   "outputs": [],
   "source": [
    "#data_preprocess(country) : removing capital cities and alternative name of the country using split()\n",
    "def data_preprocess(country):\n",
    "    var= (country.split(\"-\")[0]).split(\"(\")[0].strip()\n",
    "    return var"
   ]
  },
  {
   "cell_type": "code",
   "execution_count": 9,
   "metadata": {},
   "outputs": [
    {
     "data": {
      "text/html": [
       "<div>\n",
       "<style scoped>\n",
       "    .dataframe tbody tr th:only-of-type {\n",
       "        vertical-align: middle;\n",
       "    }\n",
       "\n",
       "    .dataframe tbody tr th {\n",
       "        vertical-align: top;\n",
       "    }\n",
       "\n",
       "    .dataframe thead th {\n",
       "        text-align: right;\n",
       "    }\n",
       "</style>\n",
       "<table border=\"1\" class=\"dataframe\">\n",
       "  <thead>\n",
       "    <tr style=\"text-align: right;\">\n",
       "      <th></th>\n",
       "      <th>Continents</th>\n",
       "      <th>Country or region</th>\n",
       "    </tr>\n",
       "  </thead>\n",
       "  <tbody>\n",
       "    <tr>\n",
       "      <th>0</th>\n",
       "      <td>Africa</td>\n",
       "      <td>Algeria</td>\n",
       "    </tr>\n",
       "    <tr>\n",
       "      <th>1</th>\n",
       "      <td>Africa</td>\n",
       "      <td>Angola</td>\n",
       "    </tr>\n",
       "    <tr>\n",
       "      <th>2</th>\n",
       "      <td>Africa</td>\n",
       "      <td>Benin</td>\n",
       "    </tr>\n",
       "    <tr>\n",
       "      <th>3</th>\n",
       "      <td>Africa</td>\n",
       "      <td>Botswana</td>\n",
       "    </tr>\n",
       "    <tr>\n",
       "      <th>4</th>\n",
       "      <td>Africa</td>\n",
       "      <td>Burkina Faso</td>\n",
       "    </tr>\n",
       "    <tr>\n",
       "      <th>...</th>\n",
       "      <td>...</td>\n",
       "      <td>...</td>\n",
       "    </tr>\n",
       "    <tr>\n",
       "      <th>222</th>\n",
       "      <td>Oceania</td>\n",
       "      <td>Samoa</td>\n",
       "    </tr>\n",
       "    <tr>\n",
       "      <th>223</th>\n",
       "      <td>Oceania</td>\n",
       "      <td>Solomon Islands</td>\n",
       "    </tr>\n",
       "    <tr>\n",
       "      <th>224</th>\n",
       "      <td>Oceania</td>\n",
       "      <td>Tonga</td>\n",
       "    </tr>\n",
       "    <tr>\n",
       "      <th>225</th>\n",
       "      <td>Oceania</td>\n",
       "      <td>Tuvalu</td>\n",
       "    </tr>\n",
       "    <tr>\n",
       "      <th>226</th>\n",
       "      <td>Oceania</td>\n",
       "      <td>Vanuatu</td>\n",
       "    </tr>\n",
       "  </tbody>\n",
       "</table>\n",
       "<p>227 rows × 2 columns</p>\n",
       "</div>"
      ],
      "text/plain": [
       "    Continents Country or region\n",
       "0       Africa           Algeria\n",
       "1       Africa            Angola\n",
       "2       Africa             Benin\n",
       "3       Africa          Botswana\n",
       "4       Africa      Burkina Faso\n",
       "..         ...               ...\n",
       "222    Oceania             Samoa\n",
       "223    Oceania   Solomon Islands\n",
       "224    Oceania             Tonga\n",
       "225    Oceania            Tuvalu\n",
       "226    Oceania           Vanuatu\n",
       "\n",
       "[227 rows x 2 columns]"
      ]
     },
     "execution_count": 9,
     "metadata": {},
     "output_type": "execute_result"
    }
   ],
   "source": [
    "#applying data_preprocess(country) to each country \n",
    "new_df['Country or region'] = new_df['Country or region'].apply(data_preprocess)\n",
    "new_df"
   ]
  },
  {
   "cell_type": "markdown",
   "metadata": {},
   "source": [
    "Scrapping world happiness report 2019. This acts as our second dataset."
   ]
  },
  {
   "cell_type": "code",
   "execution_count": 10,
   "metadata": {},
   "outputs": [
    {
     "name": "stdout",
     "output_type": "stream",
     "text": [
      "World Happiness Report - Wikipedia\n"
     ]
    }
   ],
   "source": [
    "#getting the web response\n",
    "page_score = requests.get(\"https://en.wikipedia.org/wiki/World_Happiness_Report#2019_report\")\n",
    "soup_score = BeautifulSoup(page_score.content,'lxml')\n",
    "\n",
    "out = open(\"wikiCountriesScore_html\",\"w\",encoding=\"utf-8\")\n",
    "out.write(str(soup_score))\n",
    "out.close()\n",
    "\n",
    "soup = BeautifulSoup(open(\"wikiCountriesScore_html\",encoding=\"utf-8\"),\"lxml\")\n",
    "\n",
    "title = soup_score.find('title').get_text()\n",
    "print(title.strip())"
   ]
  },
  {
   "cell_type": "code",
   "execution_count": 11,
   "metadata": {},
   "outputs": [
    {
     "data": {
      "text/html": [
       "<div>\n",
       "<style scoped>\n",
       "    .dataframe tbody tr th:only-of-type {\n",
       "        vertical-align: middle;\n",
       "    }\n",
       "\n",
       "    .dataframe tbody tr th {\n",
       "        vertical-align: top;\n",
       "    }\n",
       "\n",
       "    .dataframe thead th {\n",
       "        text-align: right;\n",
       "    }\n",
       "</style>\n",
       "<table border=\"1\" class=\"dataframe\">\n",
       "  <thead>\n",
       "    <tr style=\"text-align: right;\">\n",
       "      <th></th>\n",
       "      <th>Overall rank</th>\n",
       "      <th>Country or region</th>\n",
       "      <th>Score</th>\n",
       "      <th>GDP per capita</th>\n",
       "      <th>Social support</th>\n",
       "      <th>Healthy life expectancy</th>\n",
       "      <th>Freedom to make life choices</th>\n",
       "      <th>Generosity</th>\n",
       "      <th>Perceptions of corruption</th>\n",
       "    </tr>\n",
       "  </thead>\n",
       "  <tbody>\n",
       "    <tr>\n",
       "      <th>0</th>\n",
       "      <td>1</td>\n",
       "      <td>Finland</td>\n",
       "      <td>7.809</td>\n",
       "      <td>1.285</td>\n",
       "      <td>1.500</td>\n",
       "      <td>0.961</td>\n",
       "      <td>0.662</td>\n",
       "      <td>0.160</td>\n",
       "      <td>0.478</td>\n",
       "    </tr>\n",
       "    <tr>\n",
       "      <th>1</th>\n",
       "      <td>2</td>\n",
       "      <td>Denmark</td>\n",
       "      <td>7.646</td>\n",
       "      <td>1.327</td>\n",
       "      <td>1.503</td>\n",
       "      <td>0.979</td>\n",
       "      <td>0.665</td>\n",
       "      <td>0.243</td>\n",
       "      <td>0.495</td>\n",
       "    </tr>\n",
       "    <tr>\n",
       "      <th>2</th>\n",
       "      <td>3</td>\n",
       "      <td>Switzerland</td>\n",
       "      <td>7.560</td>\n",
       "      <td>1.391</td>\n",
       "      <td>1.472</td>\n",
       "      <td>1.041</td>\n",
       "      <td>0.629</td>\n",
       "      <td>0.269</td>\n",
       "      <td>0.408</td>\n",
       "    </tr>\n",
       "    <tr>\n",
       "      <th>3</th>\n",
       "      <td>4</td>\n",
       "      <td>Iceland</td>\n",
       "      <td>7.504</td>\n",
       "      <td>1.327</td>\n",
       "      <td>1.548</td>\n",
       "      <td>1.001</td>\n",
       "      <td>0.662</td>\n",
       "      <td>0.362</td>\n",
       "      <td>0.145</td>\n",
       "    </tr>\n",
       "    <tr>\n",
       "      <th>4</th>\n",
       "      <td>5</td>\n",
       "      <td>Norway</td>\n",
       "      <td>7.488</td>\n",
       "      <td>1.424</td>\n",
       "      <td>1.495</td>\n",
       "      <td>1.008</td>\n",
       "      <td>0.670</td>\n",
       "      <td>0.288</td>\n",
       "      <td>0.434</td>\n",
       "    </tr>\n",
       "    <tr>\n",
       "      <th>...</th>\n",
       "      <td>...</td>\n",
       "      <td>...</td>\n",
       "      <td>...</td>\n",
       "      <td>...</td>\n",
       "      <td>...</td>\n",
       "      <td>...</td>\n",
       "      <td>...</td>\n",
       "      <td>...</td>\n",
       "      <td>...</td>\n",
       "    </tr>\n",
       "    <tr>\n",
       "      <th>148</th>\n",
       "      <td>149</td>\n",
       "      <td>Central African Republic</td>\n",
       "      <td>3.476</td>\n",
       "      <td>0.041</td>\n",
       "      <td>0.000</td>\n",
       "      <td>0.000</td>\n",
       "      <td>0.293</td>\n",
       "      <td>0.254</td>\n",
       "      <td>0.028</td>\n",
       "    </tr>\n",
       "    <tr>\n",
       "      <th>149</th>\n",
       "      <td>150</td>\n",
       "      <td>Rwanda</td>\n",
       "      <td>3.312</td>\n",
       "      <td>0.343</td>\n",
       "      <td>0.523</td>\n",
       "      <td>0.572</td>\n",
       "      <td>0.604</td>\n",
       "      <td>0.236</td>\n",
       "      <td>0.486</td>\n",
       "    </tr>\n",
       "    <tr>\n",
       "      <th>150</th>\n",
       "      <td>151</td>\n",
       "      <td>Zimbabwe</td>\n",
       "      <td>3.299</td>\n",
       "      <td>0.426</td>\n",
       "      <td>1.048</td>\n",
       "      <td>0.375</td>\n",
       "      <td>0.377</td>\n",
       "      <td>0.151</td>\n",
       "      <td>0.081</td>\n",
       "    </tr>\n",
       "    <tr>\n",
       "      <th>151</th>\n",
       "      <td>152</td>\n",
       "      <td>South Sudan</td>\n",
       "      <td>2.817</td>\n",
       "      <td>0.289</td>\n",
       "      <td>0.553</td>\n",
       "      <td>0.209</td>\n",
       "      <td>0.066</td>\n",
       "      <td>0.210</td>\n",
       "      <td>0.111</td>\n",
       "    </tr>\n",
       "    <tr>\n",
       "      <th>152</th>\n",
       "      <td>153</td>\n",
       "      <td>Afghanistan</td>\n",
       "      <td>2.567</td>\n",
       "      <td>0.301</td>\n",
       "      <td>0.356</td>\n",
       "      <td>0.266</td>\n",
       "      <td>0.000</td>\n",
       "      <td>0.135</td>\n",
       "      <td>0.001</td>\n",
       "    </tr>\n",
       "  </tbody>\n",
       "</table>\n",
       "<p>153 rows × 9 columns</p>\n",
       "</div>"
      ],
      "text/plain": [
       "     Overall rank         Country or region  Score  GDP per capita  \\\n",
       "0               1                   Finland  7.809           1.285   \n",
       "1               2                   Denmark  7.646           1.327   \n",
       "2               3               Switzerland  7.560           1.391   \n",
       "3               4                   Iceland  7.504           1.327   \n",
       "4               5                    Norway  7.488           1.424   \n",
       "..            ...                       ...    ...             ...   \n",
       "148           149  Central African Republic  3.476           0.041   \n",
       "149           150                    Rwanda  3.312           0.343   \n",
       "150           151                  Zimbabwe  3.299           0.426   \n",
       "151           152               South Sudan  2.817           0.289   \n",
       "152           153               Afghanistan  2.567           0.301   \n",
       "\n",
       "     Social support  Healthy life expectancy  Freedom to make life choices  \\\n",
       "0             1.500                    0.961                         0.662   \n",
       "1             1.503                    0.979                         0.665   \n",
       "2             1.472                    1.041                         0.629   \n",
       "3             1.548                    1.001                         0.662   \n",
       "4             1.495                    1.008                         0.670   \n",
       "..              ...                      ...                           ...   \n",
       "148           0.000                    0.000                         0.293   \n",
       "149           0.523                    0.572                         0.604   \n",
       "150           1.048                    0.375                         0.377   \n",
       "151           0.553                    0.209                         0.066   \n",
       "152           0.356                    0.266                         0.000   \n",
       "\n",
       "     Generosity  Perceptions of corruption  \n",
       "0         0.160                      0.478  \n",
       "1         0.243                      0.495  \n",
       "2         0.269                      0.408  \n",
       "3         0.362                      0.145  \n",
       "4         0.288                      0.434  \n",
       "..          ...                        ...  \n",
       "148       0.254                      0.028  \n",
       "149       0.236                      0.486  \n",
       "150       0.151                      0.081  \n",
       "151       0.210                      0.111  \n",
       "152       0.135                      0.001  \n",
       "\n",
       "[153 rows x 9 columns]"
      ]
     },
     "execution_count": 11,
     "metadata": {},
     "output_type": "execute_result"
    }
   ],
   "source": [
    "#extracting the table and converting it to a dataframe\n",
    "#df_scoreDataframe : Dataframe consisting of table pf 2019 happiness scores\n",
    "\n",
    "table = soup.find_all('table',attrs={'class':'wikitable sortable'})\n",
    "df_score = pd.read_html(str(table))\n",
    "df_scoreDataframe = pd.DataFrame(df_score[0])\n",
    "df_scoreDataframe['Country or region'].apply(lambda var : var.strip())\n",
    "df_scoreDataframe\n"
   ]
  },
  {
   "cell_type": "markdown",
   "metadata": {},
   "source": [
    "Merging two datsets with left join "
   ]
  },
  {
   "cell_type": "code",
   "execution_count": 12,
   "metadata": {},
   "outputs": [
    {
     "data": {
      "text/html": [
       "<div>\n",
       "<style scoped>\n",
       "    .dataframe tbody tr th:only-of-type {\n",
       "        vertical-align: middle;\n",
       "    }\n",
       "\n",
       "    .dataframe tbody tr th {\n",
       "        vertical-align: top;\n",
       "    }\n",
       "\n",
       "    .dataframe thead th {\n",
       "        text-align: right;\n",
       "    }\n",
       "</style>\n",
       "<table border=\"1\" class=\"dataframe\">\n",
       "  <thead>\n",
       "    <tr style=\"text-align: right;\">\n",
       "      <th></th>\n",
       "      <th>Overall rank</th>\n",
       "      <th>Country or region</th>\n",
       "      <th>Score</th>\n",
       "      <th>GDP per capita</th>\n",
       "      <th>Social support</th>\n",
       "      <th>Healthy life expectancy</th>\n",
       "      <th>Freedom to make life choices</th>\n",
       "      <th>Generosity</th>\n",
       "      <th>Perceptions of corruption</th>\n",
       "      <th>Continents</th>\n",
       "    </tr>\n",
       "  </thead>\n",
       "  <tbody>\n",
       "    <tr>\n",
       "      <th>0</th>\n",
       "      <td>1</td>\n",
       "      <td>Finland</td>\n",
       "      <td>7.809</td>\n",
       "      <td>1.285</td>\n",
       "      <td>1.500</td>\n",
       "      <td>0.961</td>\n",
       "      <td>0.662</td>\n",
       "      <td>0.160</td>\n",
       "      <td>0.478</td>\n",
       "      <td>Europe</td>\n",
       "    </tr>\n",
       "    <tr>\n",
       "      <th>1</th>\n",
       "      <td>2</td>\n",
       "      <td>Denmark</td>\n",
       "      <td>7.646</td>\n",
       "      <td>1.327</td>\n",
       "      <td>1.503</td>\n",
       "      <td>0.979</td>\n",
       "      <td>0.665</td>\n",
       "      <td>0.243</td>\n",
       "      <td>0.495</td>\n",
       "      <td>Europe</td>\n",
       "    </tr>\n",
       "    <tr>\n",
       "      <th>2</th>\n",
       "      <td>3</td>\n",
       "      <td>Switzerland</td>\n",
       "      <td>7.560</td>\n",
       "      <td>1.391</td>\n",
       "      <td>1.472</td>\n",
       "      <td>1.041</td>\n",
       "      <td>0.629</td>\n",
       "      <td>0.269</td>\n",
       "      <td>0.408</td>\n",
       "      <td>Europe</td>\n",
       "    </tr>\n",
       "    <tr>\n",
       "      <th>3</th>\n",
       "      <td>4</td>\n",
       "      <td>Iceland</td>\n",
       "      <td>7.504</td>\n",
       "      <td>1.327</td>\n",
       "      <td>1.548</td>\n",
       "      <td>1.001</td>\n",
       "      <td>0.662</td>\n",
       "      <td>0.362</td>\n",
       "      <td>0.145</td>\n",
       "      <td>NaN</td>\n",
       "    </tr>\n",
       "    <tr>\n",
       "      <th>4</th>\n",
       "      <td>5</td>\n",
       "      <td>Norway</td>\n",
       "      <td>7.488</td>\n",
       "      <td>1.424</td>\n",
       "      <td>1.495</td>\n",
       "      <td>1.008</td>\n",
       "      <td>0.670</td>\n",
       "      <td>0.288</td>\n",
       "      <td>0.434</td>\n",
       "      <td>Europe</td>\n",
       "    </tr>\n",
       "    <tr>\n",
       "      <th>...</th>\n",
       "      <td>...</td>\n",
       "      <td>...</td>\n",
       "      <td>...</td>\n",
       "      <td>...</td>\n",
       "      <td>...</td>\n",
       "      <td>...</td>\n",
       "      <td>...</td>\n",
       "      <td>...</td>\n",
       "      <td>...</td>\n",
       "      <td>...</td>\n",
       "    </tr>\n",
       "    <tr>\n",
       "      <th>151</th>\n",
       "      <td>149</td>\n",
       "      <td>Central African Republic</td>\n",
       "      <td>3.476</td>\n",
       "      <td>0.041</td>\n",
       "      <td>0.000</td>\n",
       "      <td>0.000</td>\n",
       "      <td>0.293</td>\n",
       "      <td>0.254</td>\n",
       "      <td>0.028</td>\n",
       "      <td>Africa</td>\n",
       "    </tr>\n",
       "    <tr>\n",
       "      <th>152</th>\n",
       "      <td>150</td>\n",
       "      <td>Rwanda</td>\n",
       "      <td>3.312</td>\n",
       "      <td>0.343</td>\n",
       "      <td>0.523</td>\n",
       "      <td>0.572</td>\n",
       "      <td>0.604</td>\n",
       "      <td>0.236</td>\n",
       "      <td>0.486</td>\n",
       "      <td>Africa</td>\n",
       "    </tr>\n",
       "    <tr>\n",
       "      <th>153</th>\n",
       "      <td>151</td>\n",
       "      <td>Zimbabwe</td>\n",
       "      <td>3.299</td>\n",
       "      <td>0.426</td>\n",
       "      <td>1.048</td>\n",
       "      <td>0.375</td>\n",
       "      <td>0.377</td>\n",
       "      <td>0.151</td>\n",
       "      <td>0.081</td>\n",
       "      <td>Africa</td>\n",
       "    </tr>\n",
       "    <tr>\n",
       "      <th>154</th>\n",
       "      <td>152</td>\n",
       "      <td>South Sudan</td>\n",
       "      <td>2.817</td>\n",
       "      <td>0.289</td>\n",
       "      <td>0.553</td>\n",
       "      <td>0.209</td>\n",
       "      <td>0.066</td>\n",
       "      <td>0.210</td>\n",
       "      <td>0.111</td>\n",
       "      <td>Africa</td>\n",
       "    </tr>\n",
       "    <tr>\n",
       "      <th>155</th>\n",
       "      <td>153</td>\n",
       "      <td>Afghanistan</td>\n",
       "      <td>2.567</td>\n",
       "      <td>0.301</td>\n",
       "      <td>0.356</td>\n",
       "      <td>0.266</td>\n",
       "      <td>0.000</td>\n",
       "      <td>0.135</td>\n",
       "      <td>0.001</td>\n",
       "      <td>Asia</td>\n",
       "    </tr>\n",
       "  </tbody>\n",
       "</table>\n",
       "<p>153 rows × 10 columns</p>\n",
       "</div>"
      ],
      "text/plain": [
       "     Overall rank         Country or region  Score  GDP per capita  \\\n",
       "0               1                   Finland  7.809           1.285   \n",
       "1               2                   Denmark  7.646           1.327   \n",
       "2               3               Switzerland  7.560           1.391   \n",
       "3               4                   Iceland  7.504           1.327   \n",
       "4               5                    Norway  7.488           1.424   \n",
       "..            ...                       ...    ...             ...   \n",
       "151           149  Central African Republic  3.476           0.041   \n",
       "152           150                    Rwanda  3.312           0.343   \n",
       "153           151                  Zimbabwe  3.299           0.426   \n",
       "154           152               South Sudan  2.817           0.289   \n",
       "155           153               Afghanistan  2.567           0.301   \n",
       "\n",
       "     Social support  Healthy life expectancy  Freedom to make life choices  \\\n",
       "0             1.500                    0.961                         0.662   \n",
       "1             1.503                    0.979                         0.665   \n",
       "2             1.472                    1.041                         0.629   \n",
       "3             1.548                    1.001                         0.662   \n",
       "4             1.495                    1.008                         0.670   \n",
       "..              ...                      ...                           ...   \n",
       "151           0.000                    0.000                         0.293   \n",
       "152           0.523                    0.572                         0.604   \n",
       "153           1.048                    0.375                         0.377   \n",
       "154           0.553                    0.209                         0.066   \n",
       "155           0.356                    0.266                         0.000   \n",
       "\n",
       "     Generosity  Perceptions of corruption Continents  \n",
       "0         0.160                      0.478     Europe  \n",
       "1         0.243                      0.495     Europe  \n",
       "2         0.269                      0.408     Europe  \n",
       "3         0.362                      0.145        NaN  \n",
       "4         0.288                      0.434     Europe  \n",
       "..          ...                        ...        ...  \n",
       "151       0.254                      0.028     Africa  \n",
       "152       0.236                      0.486     Africa  \n",
       "153       0.151                      0.081     Africa  \n",
       "154       0.210                      0.111     Africa  \n",
       "155       0.135                      0.001       Asia  \n",
       "\n",
       "[153 rows x 10 columns]"
      ]
     },
     "execution_count": 12,
     "metadata": {},
     "output_type": "execute_result"
    }
   ],
   "source": [
    "#Merging the two dataframes and eliminating duplicates and saving it as csv file\n",
    "\n",
    "df_out = df_scoreDataframe.merge(new_df,on=\"Country or region\",how=\"left\")\n",
    "df_out = df_out.drop_duplicates(subset='Country or region', keep=\"first\")\n",
    "df_out.to_csv ('Happiness_index.csv', index = False, header=True)\n",
    "df_out"
   ]
  },
  {
   "cell_type": "code",
   "execution_count": 13,
   "metadata": {},
   "outputs": [
    {
     "data": {
      "text/html": [
       "<div>\n",
       "<style scoped>\n",
       "    .dataframe tbody tr th:only-of-type {\n",
       "        vertical-align: middle;\n",
       "    }\n",
       "\n",
       "    .dataframe tbody tr th {\n",
       "        vertical-align: top;\n",
       "    }\n",
       "\n",
       "    .dataframe thead th {\n",
       "        text-align: right;\n",
       "    }\n",
       "</style>\n",
       "<table border=\"1\" class=\"dataframe\">\n",
       "  <thead>\n",
       "    <tr style=\"text-align: right;\">\n",
       "      <th></th>\n",
       "      <th>Overall rank</th>\n",
       "      <th>Country or region</th>\n",
       "      <th>Score</th>\n",
       "      <th>GDP per capita</th>\n",
       "      <th>Social support</th>\n",
       "      <th>Healthy life expectancy</th>\n",
       "      <th>Freedom to make life choices</th>\n",
       "      <th>Generosity</th>\n",
       "      <th>Perceptions of corruption</th>\n",
       "      <th>Continents</th>\n",
       "    </tr>\n",
       "  </thead>\n",
       "  <tbody>\n",
       "    <tr>\n",
       "      <th>0</th>\n",
       "      <td>1</td>\n",
       "      <td>Finland</td>\n",
       "      <td>7.809</td>\n",
       "      <td>1.285</td>\n",
       "      <td>1.500</td>\n",
       "      <td>0.961</td>\n",
       "      <td>0.662</td>\n",
       "      <td>0.160</td>\n",
       "      <td>0.478</td>\n",
       "      <td>Europe</td>\n",
       "    </tr>\n",
       "    <tr>\n",
       "      <th>1</th>\n",
       "      <td>2</td>\n",
       "      <td>Denmark</td>\n",
       "      <td>7.646</td>\n",
       "      <td>1.327</td>\n",
       "      <td>1.503</td>\n",
       "      <td>0.979</td>\n",
       "      <td>0.665</td>\n",
       "      <td>0.243</td>\n",
       "      <td>0.495</td>\n",
       "      <td>Europe</td>\n",
       "    </tr>\n",
       "    <tr>\n",
       "      <th>2</th>\n",
       "      <td>3</td>\n",
       "      <td>Switzerland</td>\n",
       "      <td>7.560</td>\n",
       "      <td>1.391</td>\n",
       "      <td>1.472</td>\n",
       "      <td>1.041</td>\n",
       "      <td>0.629</td>\n",
       "      <td>0.269</td>\n",
       "      <td>0.408</td>\n",
       "      <td>Europe</td>\n",
       "    </tr>\n",
       "    <tr>\n",
       "      <th>3</th>\n",
       "      <td>4</td>\n",
       "      <td>Iceland</td>\n",
       "      <td>7.504</td>\n",
       "      <td>1.327</td>\n",
       "      <td>1.548</td>\n",
       "      <td>1.001</td>\n",
       "      <td>0.662</td>\n",
       "      <td>0.362</td>\n",
       "      <td>0.145</td>\n",
       "      <td>NaN</td>\n",
       "    </tr>\n",
       "    <tr>\n",
       "      <th>4</th>\n",
       "      <td>5</td>\n",
       "      <td>Norway</td>\n",
       "      <td>7.488</td>\n",
       "      <td>1.424</td>\n",
       "      <td>1.495</td>\n",
       "      <td>1.008</td>\n",
       "      <td>0.670</td>\n",
       "      <td>0.288</td>\n",
       "      <td>0.434</td>\n",
       "      <td>Europe</td>\n",
       "    </tr>\n",
       "    <tr>\n",
       "      <th>...</th>\n",
       "      <td>...</td>\n",
       "      <td>...</td>\n",
       "      <td>...</td>\n",
       "      <td>...</td>\n",
       "      <td>...</td>\n",
       "      <td>...</td>\n",
       "      <td>...</td>\n",
       "      <td>...</td>\n",
       "      <td>...</td>\n",
       "      <td>...</td>\n",
       "    </tr>\n",
       "    <tr>\n",
       "      <th>148</th>\n",
       "      <td>149</td>\n",
       "      <td>Central African Republic</td>\n",
       "      <td>3.476</td>\n",
       "      <td>0.041</td>\n",
       "      <td>0.000</td>\n",
       "      <td>0.000</td>\n",
       "      <td>0.293</td>\n",
       "      <td>0.254</td>\n",
       "      <td>0.028</td>\n",
       "      <td>Africa</td>\n",
       "    </tr>\n",
       "    <tr>\n",
       "      <th>149</th>\n",
       "      <td>150</td>\n",
       "      <td>Rwanda</td>\n",
       "      <td>3.312</td>\n",
       "      <td>0.343</td>\n",
       "      <td>0.523</td>\n",
       "      <td>0.572</td>\n",
       "      <td>0.604</td>\n",
       "      <td>0.236</td>\n",
       "      <td>0.486</td>\n",
       "      <td>Africa</td>\n",
       "    </tr>\n",
       "    <tr>\n",
       "      <th>150</th>\n",
       "      <td>151</td>\n",
       "      <td>Zimbabwe</td>\n",
       "      <td>3.299</td>\n",
       "      <td>0.426</td>\n",
       "      <td>1.048</td>\n",
       "      <td>0.375</td>\n",
       "      <td>0.377</td>\n",
       "      <td>0.151</td>\n",
       "      <td>0.081</td>\n",
       "      <td>Africa</td>\n",
       "    </tr>\n",
       "    <tr>\n",
       "      <th>151</th>\n",
       "      <td>152</td>\n",
       "      <td>South Sudan</td>\n",
       "      <td>2.817</td>\n",
       "      <td>0.289</td>\n",
       "      <td>0.553</td>\n",
       "      <td>0.209</td>\n",
       "      <td>0.066</td>\n",
       "      <td>0.210</td>\n",
       "      <td>0.111</td>\n",
       "      <td>Africa</td>\n",
       "    </tr>\n",
       "    <tr>\n",
       "      <th>152</th>\n",
       "      <td>153</td>\n",
       "      <td>Afghanistan</td>\n",
       "      <td>2.567</td>\n",
       "      <td>0.301</td>\n",
       "      <td>0.356</td>\n",
       "      <td>0.266</td>\n",
       "      <td>0.000</td>\n",
       "      <td>0.135</td>\n",
       "      <td>0.001</td>\n",
       "      <td>Asia</td>\n",
       "    </tr>\n",
       "  </tbody>\n",
       "</table>\n",
       "<p>153 rows × 10 columns</p>\n",
       "</div>"
      ],
      "text/plain": [
       "     Overall rank         Country or region  Score  GDP per capita  \\\n",
       "0               1                   Finland  7.809           1.285   \n",
       "1               2                   Denmark  7.646           1.327   \n",
       "2               3               Switzerland  7.560           1.391   \n",
       "3               4                   Iceland  7.504           1.327   \n",
       "4               5                    Norway  7.488           1.424   \n",
       "..            ...                       ...    ...             ...   \n",
       "148           149  Central African Republic  3.476           0.041   \n",
       "149           150                    Rwanda  3.312           0.343   \n",
       "150           151                  Zimbabwe  3.299           0.426   \n",
       "151           152               South Sudan  2.817           0.289   \n",
       "152           153               Afghanistan  2.567           0.301   \n",
       "\n",
       "     Social support  Healthy life expectancy  Freedom to make life choices  \\\n",
       "0             1.500                    0.961                         0.662   \n",
       "1             1.503                    0.979                         0.665   \n",
       "2             1.472                    1.041                         0.629   \n",
       "3             1.548                    1.001                         0.662   \n",
       "4             1.495                    1.008                         0.670   \n",
       "..              ...                      ...                           ...   \n",
       "148           0.000                    0.000                         0.293   \n",
       "149           0.523                    0.572                         0.604   \n",
       "150           1.048                    0.375                         0.377   \n",
       "151           0.553                    0.209                         0.066   \n",
       "152           0.356                    0.266                         0.000   \n",
       "\n",
       "     Generosity  Perceptions of corruption Continents  \n",
       "0         0.160                      0.478     Europe  \n",
       "1         0.243                      0.495     Europe  \n",
       "2         0.269                      0.408     Europe  \n",
       "3         0.362                      0.145        NaN  \n",
       "4         0.288                      0.434     Europe  \n",
       "..          ...                        ...        ...  \n",
       "148       0.254                      0.028     Africa  \n",
       "149       0.236                      0.486     Africa  \n",
       "150       0.151                      0.081     Africa  \n",
       "151       0.210                      0.111     Africa  \n",
       "152       0.135                      0.001       Asia  \n",
       "\n",
       "[153 rows x 10 columns]"
      ]
     },
     "execution_count": 13,
     "metadata": {},
     "output_type": "execute_result"
    }
   ],
   "source": [
    "#load csv file\n",
    "df_final = pd.read_csv('Happiness_index.csv')\n",
    "df_final "
   ]
  },
  {
   "cell_type": "markdown",
   "metadata": {},
   "source": [
    "# Data visualisation"
   ]
  },
  {
   "cell_type": "markdown",
   "metadata": {},
   "source": [
    "# World map"
   ]
  },
  {
   "cell_type": "code",
   "execution_count": 15,
   "metadata": {},
   "outputs": [
    {
     "data": {
      "text/html": [
       "        <script type=\"text/javascript\">\n",
       "        window.PlotlyConfig = {MathJaxConfig: 'local'};\n",
       "        if (window.MathJax) {MathJax.Hub.Config({SVG: {font: \"STIX-Web\"}});}\n",
       "        if (typeof require !== 'undefined') {\n",
       "        require.undef(\"plotly\");\n",
       "        requirejs.config({\n",
       "            paths: {\n",
       "                'plotly': ['https://cdn.plot.ly/plotly-latest.min']\n",
       "            }\n",
       "        });\n",
       "        require(['plotly'], function(Plotly) {\n",
       "            window._Plotly = Plotly;\n",
       "        });\n",
       "        }\n",
       "        </script>\n",
       "        "
      ]
     },
     "metadata": {},
     "output_type": "display_data"
    },
    {
     "data": {
      "application/vnd.plotly.v1+json": {
       "config": {
        "linkText": "Export to plot.ly",
        "plotlyServerURL": "https://plot.ly",
        "showLink": false
       },
       "data": [
        {
         "autocolorscale": true,
         "colorbar": {
          "title": {
           "text": "Happiness Score"
          }
         },
         "locationmode": "country names",
         "locations": [
          "Finland",
          "Denmark",
          "Switzerland",
          "Iceland",
          "Norway",
          "Netherlands",
          "Sweden",
          "New Zealand",
          "Austria",
          "Luxembourg",
          "Canada",
          "Australia",
          "United Kingdom",
          "Israel",
          "Costa Rica",
          "Ireland",
          "Germany",
          "United States",
          "Czech Republic",
          "Belgium",
          "United Arab Emirates",
          "Malta",
          "France",
          "Mexico",
          "Taiwan",
          "Uruguay",
          "Saudi Arabia",
          "Spain",
          "Guatemala",
          "Italy",
          "Singapore",
          "Brazil",
          "Slovenia",
          "El Salvador",
          "Kosovo",
          "Panama",
          "Slovakia",
          "Uzbekistan",
          "Chile",
          "Bahrain",
          "Lithuania",
          "Trinidad and Tobago",
          "Poland",
          "Colombia",
          "Cyprus",
          "Nicaragua",
          "Romania",
          "Kuwait",
          "Mauritius",
          "Kazakhstan",
          "Estonia",
          "Philippines",
          "Hungary",
          "Thailand",
          "Argentina",
          "Honduras",
          "Latvia",
          "Ecuador",
          "Portugal",
          "Jamaica",
          "South Korea",
          "Japan",
          "Peru",
          "Serbia",
          "Bolivia",
          "Pakistan",
          "Paraguay",
          "Dominican Republic",
          "Bosnia and Herzegovina",
          "Moldova",
          "Tajikistan",
          "Montenegro",
          "Russia",
          "Kyrgyzstan",
          "Belarus",
          "North Cyprus",
          "Greece",
          "Hong Kong",
          "Croatia",
          "Libya",
          "Mongolia",
          "Malaysia",
          "Vietnam",
          "Indonesia",
          "Ivory Coast",
          "Benin",
          "Maldives",
          "Congo (Brazzaville)",
          "Azerbaijan",
          "North Macedonia",
          "Ghana",
          "Nepal",
          "Turkey",
          "China",
          "Turkmenistan",
          "Bulgaria",
          "Morocco",
          "Cameroon",
          "Venezuela",
          "Algeria",
          "Senegal",
          "Guinea",
          "Niger",
          "Laos",
          "Albania",
          "Cambodia",
          "Bangladesh",
          "Gabon",
          "South Africa",
          "Iraq",
          "Lebanon",
          "Burkina Faso",
          "Gambia",
          "Mali",
          "Nigeria",
          "Armenia",
          "Georgia",
          "Iran",
          "Jordan",
          "Mozambique",
          "Kenya",
          "Namibia",
          "Ukraine",
          "Liberia",
          "Palestine",
          "Uganda",
          "Chad",
          "Tunisia",
          "Mauritania",
          "Sri Lanka",
          "Congo (Kinshasa)",
          "Swaziland",
          "Myanmar",
          "Comoros",
          "Togo",
          "Ethiopia",
          "Madagascar",
          "Egypt",
          "Sierra Leone",
          "Burundi",
          "Zambia",
          "Haiti",
          "Lesotho",
          "India",
          "Malawi",
          "Yemen",
          "Botswana",
          "Tanzania",
          "Central African Republic",
          "Rwanda",
          "Zimbabwe",
          "South Sudan",
          "Afghanistan"
         ],
         "reversescale": true,
         "text": [
          "Finland",
          "Denmark",
          "Switzerland",
          "Iceland",
          "Norway",
          "Netherlands",
          "Sweden",
          "New Zealand",
          "Austria",
          "Luxembourg",
          "Canada",
          "Australia",
          "United Kingdom",
          "Israel",
          "Costa Rica",
          "Ireland",
          "Germany",
          "United States",
          "Czech Republic",
          "Belgium",
          "United Arab Emirates",
          "Malta",
          "France",
          "Mexico",
          "Taiwan",
          "Uruguay",
          "Saudi Arabia",
          "Spain",
          "Guatemala",
          "Italy",
          "Singapore",
          "Brazil",
          "Slovenia",
          "El Salvador",
          "Kosovo",
          "Panama",
          "Slovakia",
          "Uzbekistan",
          "Chile",
          "Bahrain",
          "Lithuania",
          "Trinidad and Tobago",
          "Poland",
          "Colombia",
          "Cyprus",
          "Nicaragua",
          "Romania",
          "Kuwait",
          "Mauritius",
          "Kazakhstan",
          "Estonia",
          "Philippines",
          "Hungary",
          "Thailand",
          "Argentina",
          "Honduras",
          "Latvia",
          "Ecuador",
          "Portugal",
          "Jamaica",
          "South Korea",
          "Japan",
          "Peru",
          "Serbia",
          "Bolivia",
          "Pakistan",
          "Paraguay",
          "Dominican Republic",
          "Bosnia and Herzegovina",
          "Moldova",
          "Tajikistan",
          "Montenegro",
          "Russia",
          "Kyrgyzstan",
          "Belarus",
          "North Cyprus",
          "Greece",
          "Hong Kong",
          "Croatia",
          "Libya",
          "Mongolia",
          "Malaysia",
          "Vietnam",
          "Indonesia",
          "Ivory Coast",
          "Benin",
          "Maldives",
          "Congo (Brazzaville)",
          "Azerbaijan",
          "North Macedonia",
          "Ghana",
          "Nepal",
          "Turkey",
          "China",
          "Turkmenistan",
          "Bulgaria",
          "Morocco",
          "Cameroon",
          "Venezuela",
          "Algeria",
          "Senegal",
          "Guinea",
          "Niger",
          "Laos",
          "Albania",
          "Cambodia",
          "Bangladesh",
          "Gabon",
          "South Africa",
          "Iraq",
          "Lebanon",
          "Burkina Faso",
          "Gambia",
          "Mali",
          "Nigeria",
          "Armenia",
          "Georgia",
          "Iran",
          "Jordan",
          "Mozambique",
          "Kenya",
          "Namibia",
          "Ukraine",
          "Liberia",
          "Palestine",
          "Uganda",
          "Chad",
          "Tunisia",
          "Mauritania",
          "Sri Lanka",
          "Congo (Kinshasa)",
          "Swaziland",
          "Myanmar",
          "Comoros",
          "Togo",
          "Ethiopia",
          "Madagascar",
          "Egypt",
          "Sierra Leone",
          "Burundi",
          "Zambia",
          "Haiti",
          "Lesotho",
          "India",
          "Malawi",
          "Yemen",
          "Botswana",
          "Tanzania",
          "Central African Republic",
          "Rwanda",
          "Zimbabwe",
          "South Sudan",
          "Afghanistan"
         ],
         "type": "choropleth",
         "z": [
          7.809,
          7.646,
          7.56,
          7.504,
          7.487999999999999,
          7.449,
          7.353,
          7.3,
          7.294,
          7.237999999999999,
          7.232,
          7.223,
          7.165,
          7.129,
          7.121,
          7.0939999999999985,
          7.0760000000000005,
          6.94,
          6.9110000000000005,
          6.864,
          6.791,
          6.773,
          6.664,
          6.465,
          6.455,
          6.44,
          6.4060000000000015,
          6.401,
          6.399,
          6.3870000000000005,
          6.377000000000002,
          6.376,
          6.363,
          6.348,
          6.325,
          6.305,
          6.2810000000000015,
          6.257999999999999,
          6.228,
          6.227,
          6.215,
          6.192,
          6.186,
          6.1629999999999985,
          6.159,
          6.1370000000000005,
          6.124,
          6.102,
          6.101,
          6.058,
          6.022,
          6.006,
          6,
          5.999,
          5.975,
          5.9529999999999985,
          5.95,
          5.925,
          5.9110000000000005,
          5.89,
          5.872000000000001,
          5.871,
          5.7970000000000015,
          5.778,
          5.747000000000001,
          5.693,
          5.692,
          5.689,
          5.674,
          5.608,
          5.556,
          5.546,
          5.546,
          5.542000000000002,
          5.54,
          5.5360000000000005,
          5.515,
          5.51,
          5.505,
          5.489,
          5.456,
          5.384,
          5.353,
          5.2860000000000005,
          5.233,
          5.216,
          5.198,
          5.194,
          5.165,
          5.16,
          5.148,
          5.1370000000000005,
          5.1320000000000014,
          5.124,
          5.119,
          5.102,
          5.095,
          5.085,
          5.053,
          5.005,
          4.981,
          4.949,
          4.91,
          4.8889999999999985,
          4.883,
          4.848,
          4.833,
          4.829,
          4.814,
          4.785,
          4.772,
          4.769,
          4.751,
          4.729,
          4.724,
          4.677,
          4.673,
          4.672,
          4.633,
          4.624,
          4.583,
          4.5710000000000015,
          4.561,
          4.558,
          4.553,
          4.432,
          4.423,
          4.392,
          4.375,
          4.327,
          4.311,
          4.308,
          4.308,
          4.289,
          4.187,
          4.186,
          4.166,
          4.151,
          3.926,
          3.775,
          3.759,
          3.721,
          3.653,
          3.573,
          3.5380000000000003,
          3.527,
          3.479,
          3.4760000000000004,
          3.4760000000000004,
          3.312,
          3.299,
          2.817,
          2.567
         ]
        }
       ],
       "layout": {
        "geo": {
         "projection": {
          "type": "equirectangular"
         },
         "showframe": false
        },
        "template": {
         "data": {
          "bar": [
           {
            "error_x": {
             "color": "#2a3f5f"
            },
            "error_y": {
             "color": "#2a3f5f"
            },
            "marker": {
             "line": {
              "color": "#E5ECF6",
              "width": 0.5
             }
            },
            "type": "bar"
           }
          ],
          "barpolar": [
           {
            "marker": {
             "line": {
              "color": "#E5ECF6",
              "width": 0.5
             }
            },
            "type": "barpolar"
           }
          ],
          "carpet": [
           {
            "aaxis": {
             "endlinecolor": "#2a3f5f",
             "gridcolor": "white",
             "linecolor": "white",
             "minorgridcolor": "white",
             "startlinecolor": "#2a3f5f"
            },
            "baxis": {
             "endlinecolor": "#2a3f5f",
             "gridcolor": "white",
             "linecolor": "white",
             "minorgridcolor": "white",
             "startlinecolor": "#2a3f5f"
            },
            "type": "carpet"
           }
          ],
          "choropleth": [
           {
            "colorbar": {
             "outlinewidth": 0,
             "ticks": ""
            },
            "type": "choropleth"
           }
          ],
          "contour": [
           {
            "colorbar": {
             "outlinewidth": 0,
             "ticks": ""
            },
            "colorscale": [
             [
              0,
              "#0d0887"
             ],
             [
              0.1111111111111111,
              "#46039f"
             ],
             [
              0.2222222222222222,
              "#7201a8"
             ],
             [
              0.3333333333333333,
              "#9c179e"
             ],
             [
              0.4444444444444444,
              "#bd3786"
             ],
             [
              0.5555555555555556,
              "#d8576b"
             ],
             [
              0.6666666666666666,
              "#ed7953"
             ],
             [
              0.7777777777777778,
              "#fb9f3a"
             ],
             [
              0.8888888888888888,
              "#fdca26"
             ],
             [
              1,
              "#f0f921"
             ]
            ],
            "type": "contour"
           }
          ],
          "contourcarpet": [
           {
            "colorbar": {
             "outlinewidth": 0,
             "ticks": ""
            },
            "type": "contourcarpet"
           }
          ],
          "heatmap": [
           {
            "colorbar": {
             "outlinewidth": 0,
             "ticks": ""
            },
            "colorscale": [
             [
              0,
              "#0d0887"
             ],
             [
              0.1111111111111111,
              "#46039f"
             ],
             [
              0.2222222222222222,
              "#7201a8"
             ],
             [
              0.3333333333333333,
              "#9c179e"
             ],
             [
              0.4444444444444444,
              "#bd3786"
             ],
             [
              0.5555555555555556,
              "#d8576b"
             ],
             [
              0.6666666666666666,
              "#ed7953"
             ],
             [
              0.7777777777777778,
              "#fb9f3a"
             ],
             [
              0.8888888888888888,
              "#fdca26"
             ],
             [
              1,
              "#f0f921"
             ]
            ],
            "type": "heatmap"
           }
          ],
          "heatmapgl": [
           {
            "colorbar": {
             "outlinewidth": 0,
             "ticks": ""
            },
            "colorscale": [
             [
              0,
              "#0d0887"
             ],
             [
              0.1111111111111111,
              "#46039f"
             ],
             [
              0.2222222222222222,
              "#7201a8"
             ],
             [
              0.3333333333333333,
              "#9c179e"
             ],
             [
              0.4444444444444444,
              "#bd3786"
             ],
             [
              0.5555555555555556,
              "#d8576b"
             ],
             [
              0.6666666666666666,
              "#ed7953"
             ],
             [
              0.7777777777777778,
              "#fb9f3a"
             ],
             [
              0.8888888888888888,
              "#fdca26"
             ],
             [
              1,
              "#f0f921"
             ]
            ],
            "type": "heatmapgl"
           }
          ],
          "histogram": [
           {
            "marker": {
             "colorbar": {
              "outlinewidth": 0,
              "ticks": ""
             }
            },
            "type": "histogram"
           }
          ],
          "histogram2d": [
           {
            "colorbar": {
             "outlinewidth": 0,
             "ticks": ""
            },
            "colorscale": [
             [
              0,
              "#0d0887"
             ],
             [
              0.1111111111111111,
              "#46039f"
             ],
             [
              0.2222222222222222,
              "#7201a8"
             ],
             [
              0.3333333333333333,
              "#9c179e"
             ],
             [
              0.4444444444444444,
              "#bd3786"
             ],
             [
              0.5555555555555556,
              "#d8576b"
             ],
             [
              0.6666666666666666,
              "#ed7953"
             ],
             [
              0.7777777777777778,
              "#fb9f3a"
             ],
             [
              0.8888888888888888,
              "#fdca26"
             ],
             [
              1,
              "#f0f921"
             ]
            ],
            "type": "histogram2d"
           }
          ],
          "histogram2dcontour": [
           {
            "colorbar": {
             "outlinewidth": 0,
             "ticks": ""
            },
            "colorscale": [
             [
              0,
              "#0d0887"
             ],
             [
              0.1111111111111111,
              "#46039f"
             ],
             [
              0.2222222222222222,
              "#7201a8"
             ],
             [
              0.3333333333333333,
              "#9c179e"
             ],
             [
              0.4444444444444444,
              "#bd3786"
             ],
             [
              0.5555555555555556,
              "#d8576b"
             ],
             [
              0.6666666666666666,
              "#ed7953"
             ],
             [
              0.7777777777777778,
              "#fb9f3a"
             ],
             [
              0.8888888888888888,
              "#fdca26"
             ],
             [
              1,
              "#f0f921"
             ]
            ],
            "type": "histogram2dcontour"
           }
          ],
          "mesh3d": [
           {
            "colorbar": {
             "outlinewidth": 0,
             "ticks": ""
            },
            "type": "mesh3d"
           }
          ],
          "parcoords": [
           {
            "line": {
             "colorbar": {
              "outlinewidth": 0,
              "ticks": ""
             }
            },
            "type": "parcoords"
           }
          ],
          "pie": [
           {
            "automargin": true,
            "type": "pie"
           }
          ],
          "scatter": [
           {
            "marker": {
             "colorbar": {
              "outlinewidth": 0,
              "ticks": ""
             }
            },
            "type": "scatter"
           }
          ],
          "scatter3d": [
           {
            "line": {
             "colorbar": {
              "outlinewidth": 0,
              "ticks": ""
             }
            },
            "marker": {
             "colorbar": {
              "outlinewidth": 0,
              "ticks": ""
             }
            },
            "type": "scatter3d"
           }
          ],
          "scattercarpet": [
           {
            "marker": {
             "colorbar": {
              "outlinewidth": 0,
              "ticks": ""
             }
            },
            "type": "scattercarpet"
           }
          ],
          "scattergeo": [
           {
            "marker": {
             "colorbar": {
              "outlinewidth": 0,
              "ticks": ""
             }
            },
            "type": "scattergeo"
           }
          ],
          "scattergl": [
           {
            "marker": {
             "colorbar": {
              "outlinewidth": 0,
              "ticks": ""
             }
            },
            "type": "scattergl"
           }
          ],
          "scattermapbox": [
           {
            "marker": {
             "colorbar": {
              "outlinewidth": 0,
              "ticks": ""
             }
            },
            "type": "scattermapbox"
           }
          ],
          "scatterpolar": [
           {
            "marker": {
             "colorbar": {
              "outlinewidth": 0,
              "ticks": ""
             }
            },
            "type": "scatterpolar"
           }
          ],
          "scatterpolargl": [
           {
            "marker": {
             "colorbar": {
              "outlinewidth": 0,
              "ticks": ""
             }
            },
            "type": "scatterpolargl"
           }
          ],
          "scatterternary": [
           {
            "marker": {
             "colorbar": {
              "outlinewidth": 0,
              "ticks": ""
             }
            },
            "type": "scatterternary"
           }
          ],
          "surface": [
           {
            "colorbar": {
             "outlinewidth": 0,
             "ticks": ""
            },
            "colorscale": [
             [
              0,
              "#0d0887"
             ],
             [
              0.1111111111111111,
              "#46039f"
             ],
             [
              0.2222222222222222,
              "#7201a8"
             ],
             [
              0.3333333333333333,
              "#9c179e"
             ],
             [
              0.4444444444444444,
              "#bd3786"
             ],
             [
              0.5555555555555556,
              "#d8576b"
             ],
             [
              0.6666666666666666,
              "#ed7953"
             ],
             [
              0.7777777777777778,
              "#fb9f3a"
             ],
             [
              0.8888888888888888,
              "#fdca26"
             ],
             [
              1,
              "#f0f921"
             ]
            ],
            "type": "surface"
           }
          ],
          "table": [
           {
            "cells": {
             "fill": {
              "color": "#EBF0F8"
             },
             "line": {
              "color": "white"
             }
            },
            "header": {
             "fill": {
              "color": "#C8D4E3"
             },
             "line": {
              "color": "white"
             }
            },
            "type": "table"
           }
          ]
         },
         "layout": {
          "annotationdefaults": {
           "arrowcolor": "#2a3f5f",
           "arrowhead": 0,
           "arrowwidth": 1
          },
          "coloraxis": {
           "colorbar": {
            "outlinewidth": 0,
            "ticks": ""
           }
          },
          "colorscale": {
           "diverging": [
            [
             0,
             "#8e0152"
            ],
            [
             0.1,
             "#c51b7d"
            ],
            [
             0.2,
             "#de77ae"
            ],
            [
             0.3,
             "#f1b6da"
            ],
            [
             0.4,
             "#fde0ef"
            ],
            [
             0.5,
             "#f7f7f7"
            ],
            [
             0.6,
             "#e6f5d0"
            ],
            [
             0.7,
             "#b8e186"
            ],
            [
             0.8,
             "#7fbc41"
            ],
            [
             0.9,
             "#4d9221"
            ],
            [
             1,
             "#276419"
            ]
           ],
           "sequential": [
            [
             0,
             "#0d0887"
            ],
            [
             0.1111111111111111,
             "#46039f"
            ],
            [
             0.2222222222222222,
             "#7201a8"
            ],
            [
             0.3333333333333333,
             "#9c179e"
            ],
            [
             0.4444444444444444,
             "#bd3786"
            ],
            [
             0.5555555555555556,
             "#d8576b"
            ],
            [
             0.6666666666666666,
             "#ed7953"
            ],
            [
             0.7777777777777778,
             "#fb9f3a"
            ],
            [
             0.8888888888888888,
             "#fdca26"
            ],
            [
             1,
             "#f0f921"
            ]
           ],
           "sequentialminus": [
            [
             0,
             "#0d0887"
            ],
            [
             0.1111111111111111,
             "#46039f"
            ],
            [
             0.2222222222222222,
             "#7201a8"
            ],
            [
             0.3333333333333333,
             "#9c179e"
            ],
            [
             0.4444444444444444,
             "#bd3786"
            ],
            [
             0.5555555555555556,
             "#d8576b"
            ],
            [
             0.6666666666666666,
             "#ed7953"
            ],
            [
             0.7777777777777778,
             "#fb9f3a"
            ],
            [
             0.8888888888888888,
             "#fdca26"
            ],
            [
             1,
             "#f0f921"
            ]
           ]
          },
          "colorway": [
           "#636efa",
           "#EF553B",
           "#00cc96",
           "#ab63fa",
           "#FFA15A",
           "#19d3f3",
           "#FF6692",
           "#B6E880",
           "#FF97FF",
           "#FECB52"
          ],
          "font": {
           "color": "#2a3f5f"
          },
          "geo": {
           "bgcolor": "white",
           "lakecolor": "white",
           "landcolor": "#E5ECF6",
           "showlakes": true,
           "showland": true,
           "subunitcolor": "white"
          },
          "hoverlabel": {
           "align": "left"
          },
          "hovermode": "closest",
          "mapbox": {
           "style": "light"
          },
          "paper_bgcolor": "white",
          "plot_bgcolor": "#E5ECF6",
          "polar": {
           "angularaxis": {
            "gridcolor": "white",
            "linecolor": "white",
            "ticks": ""
           },
           "bgcolor": "#E5ECF6",
           "radialaxis": {
            "gridcolor": "white",
            "linecolor": "white",
            "ticks": ""
           }
          },
          "scene": {
           "xaxis": {
            "backgroundcolor": "#E5ECF6",
            "gridcolor": "white",
            "gridwidth": 2,
            "linecolor": "white",
            "showbackground": true,
            "ticks": "",
            "zerolinecolor": "white"
           },
           "yaxis": {
            "backgroundcolor": "#E5ECF6",
            "gridcolor": "white",
            "gridwidth": 2,
            "linecolor": "white",
            "showbackground": true,
            "ticks": "",
            "zerolinecolor": "white"
           },
           "zaxis": {
            "backgroundcolor": "#E5ECF6",
            "gridcolor": "white",
            "gridwidth": 2,
            "linecolor": "white",
            "showbackground": true,
            "ticks": "",
            "zerolinecolor": "white"
           }
          },
          "shapedefaults": {
           "line": {
            "color": "#2a3f5f"
           }
          },
          "ternary": {
           "aaxis": {
            "gridcolor": "white",
            "linecolor": "white",
            "ticks": ""
           },
           "baxis": {
            "gridcolor": "white",
            "linecolor": "white",
            "ticks": ""
           },
           "bgcolor": "#E5ECF6",
           "caxis": {
            "gridcolor": "white",
            "linecolor": "white",
            "ticks": ""
           }
          },
          "title": {
           "x": 0.05
          },
          "xaxis": {
           "automargin": true,
           "gridcolor": "white",
           "linecolor": "white",
           "ticks": "",
           "title": {
            "standoff": 15
           },
           "zerolinecolor": "white",
           "zerolinewidth": 2
          },
          "yaxis": {
           "automargin": true,
           "gridcolor": "white",
           "linecolor": "white",
           "ticks": "",
           "title": {
            "standoff": 15
           },
           "zerolinecolor": "white",
           "zerolinewidth": 2
          }
         }
        },
        "title": {
         "text": "Global Happiness Score"
        }
       }
      },
      "text/html": [
       "<div>                            <div id=\"8d9b360d-ddfa-4c57-9a14-f2b6124459ef\" class=\"plotly-graph-div\" style=\"height:525px; width:100%;\"></div>            <script type=\"text/javascript\">                require([\"plotly\"], function(Plotly) {                    window.PLOTLYENV=window.PLOTLYENV || {};                                    if (document.getElementById(\"8d9b360d-ddfa-4c57-9a14-f2b6124459ef\")) {                    Plotly.newPlot(                        \"8d9b360d-ddfa-4c57-9a14-f2b6124459ef\",                        [{\"autocolorscale\": true, \"colorbar\": {\"title\": {\"text\": \"Happiness Score\"}}, \"locationmode\": \"country names\", \"locations\": [\"Finland\", \"Denmark\", \"Switzerland\", \"Iceland\", \"Norway\", \"Netherlands\", \"Sweden\", \"New Zealand\", \"Austria\", \"Luxembourg\", \"Canada\", \"Australia\", \"United Kingdom\", \"Israel\", \"Costa Rica\", \"Ireland\", \"Germany\", \"United States\", \"Czech Republic\", \"Belgium\", \"United Arab Emirates\", \"Malta\", \"France\", \"Mexico\", \"Taiwan\", \"Uruguay\", \"Saudi Arabia\", \"Spain\", \"Guatemala\", \"Italy\", \"Singapore\", \"Brazil\", \"Slovenia\", \"El Salvador\", \"Kosovo\", \"Panama\", \"Slovakia\", \"Uzbekistan\", \"Chile\", \"Bahrain\", \"Lithuania\", \"Trinidad and Tobago\", \"Poland\", \"Colombia\", \"Cyprus\", \"Nicaragua\", \"Romania\", \"Kuwait\", \"Mauritius\", \"Kazakhstan\", \"Estonia\", \"Philippines\", \"Hungary\", \"Thailand\", \"Argentina\", \"Honduras\", \"Latvia\", \"Ecuador\", \"Portugal\", \"Jamaica\", \"South Korea\", \"Japan\", \"Peru\", \"Serbia\", \"Bolivia\", \"Pakistan\", \"Paraguay\", \"Dominican Republic\", \"Bosnia and Herzegovina\", \"Moldova\", \"Tajikistan\", \"Montenegro\", \"Russia\", \"Kyrgyzstan\", \"Belarus\", \"North Cyprus\", \"Greece\", \"Hong Kong\", \"Croatia\", \"Libya\", \"Mongolia\", \"Malaysia\", \"Vietnam\", \"Indonesia\", \"Ivory Coast\", \"Benin\", \"Maldives\", \"Congo (Brazzaville)\", \"Azerbaijan\", \"North Macedonia\", \"Ghana\", \"Nepal\", \"Turkey\", \"China\", \"Turkmenistan\", \"Bulgaria\", \"Morocco\", \"Cameroon\", \"Venezuela\", \"Algeria\", \"Senegal\", \"Guinea\", \"Niger\", \"Laos\", \"Albania\", \"Cambodia\", \"Bangladesh\", \"Gabon\", \"South Africa\", \"Iraq\", \"Lebanon\", \"Burkina Faso\", \"Gambia\", \"Mali\", \"Nigeria\", \"Armenia\", \"Georgia\", \"Iran\", \"Jordan\", \"Mozambique\", \"Kenya\", \"Namibia\", \"Ukraine\", \"Liberia\", \"Palestine\", \"Uganda\", \"Chad\", \"Tunisia\", \"Mauritania\", \"Sri Lanka\", \"Congo (Kinshasa)\", \"Swaziland\", \"Myanmar\", \"Comoros\", \"Togo\", \"Ethiopia\", \"Madagascar\", \"Egypt\", \"Sierra Leone\", \"Burundi\", \"Zambia\", \"Haiti\", \"Lesotho\", \"India\", \"Malawi\", \"Yemen\", \"Botswana\", \"Tanzania\", \"Central African Republic\", \"Rwanda\", \"Zimbabwe\", \"South Sudan\", \"Afghanistan\"], \"reversescale\": true, \"text\": [\"Finland\", \"Denmark\", \"Switzerland\", \"Iceland\", \"Norway\", \"Netherlands\", \"Sweden\", \"New Zealand\", \"Austria\", \"Luxembourg\", \"Canada\", \"Australia\", \"United Kingdom\", \"Israel\", \"Costa Rica\", \"Ireland\", \"Germany\", \"United States\", \"Czech Republic\", \"Belgium\", \"United Arab Emirates\", \"Malta\", \"France\", \"Mexico\", \"Taiwan\", \"Uruguay\", \"Saudi Arabia\", \"Spain\", \"Guatemala\", \"Italy\", \"Singapore\", \"Brazil\", \"Slovenia\", \"El Salvador\", \"Kosovo\", \"Panama\", \"Slovakia\", \"Uzbekistan\", \"Chile\", \"Bahrain\", \"Lithuania\", \"Trinidad and Tobago\", \"Poland\", \"Colombia\", \"Cyprus\", \"Nicaragua\", \"Romania\", \"Kuwait\", \"Mauritius\", \"Kazakhstan\", \"Estonia\", \"Philippines\", \"Hungary\", \"Thailand\", \"Argentina\", \"Honduras\", \"Latvia\", \"Ecuador\", \"Portugal\", \"Jamaica\", \"South Korea\", \"Japan\", \"Peru\", \"Serbia\", \"Bolivia\", \"Pakistan\", \"Paraguay\", \"Dominican Republic\", \"Bosnia and Herzegovina\", \"Moldova\", \"Tajikistan\", \"Montenegro\", \"Russia\", \"Kyrgyzstan\", \"Belarus\", \"North Cyprus\", \"Greece\", \"Hong Kong\", \"Croatia\", \"Libya\", \"Mongolia\", \"Malaysia\", \"Vietnam\", \"Indonesia\", \"Ivory Coast\", \"Benin\", \"Maldives\", \"Congo (Brazzaville)\", \"Azerbaijan\", \"North Macedonia\", \"Ghana\", \"Nepal\", \"Turkey\", \"China\", \"Turkmenistan\", \"Bulgaria\", \"Morocco\", \"Cameroon\", \"Venezuela\", \"Algeria\", \"Senegal\", \"Guinea\", \"Niger\", \"Laos\", \"Albania\", \"Cambodia\", \"Bangladesh\", \"Gabon\", \"South Africa\", \"Iraq\", \"Lebanon\", \"Burkina Faso\", \"Gambia\", \"Mali\", \"Nigeria\", \"Armenia\", \"Georgia\", \"Iran\", \"Jordan\", \"Mozambique\", \"Kenya\", \"Namibia\", \"Ukraine\", \"Liberia\", \"Palestine\", \"Uganda\", \"Chad\", \"Tunisia\", \"Mauritania\", \"Sri Lanka\", \"Congo (Kinshasa)\", \"Swaziland\", \"Myanmar\", \"Comoros\", \"Togo\", \"Ethiopia\", \"Madagascar\", \"Egypt\", \"Sierra Leone\", \"Burundi\", \"Zambia\", \"Haiti\", \"Lesotho\", \"India\", \"Malawi\", \"Yemen\", \"Botswana\", \"Tanzania\", \"Central African Republic\", \"Rwanda\", \"Zimbabwe\", \"South Sudan\", \"Afghanistan\"], \"type\": \"choropleth\", \"z\": [7.809, 7.646, 7.56, 7.504, 7.487999999999999, 7.449, 7.353, 7.3, 7.294, 7.237999999999999, 7.232, 7.223, 7.165, 7.129, 7.121, 7.0939999999999985, 7.0760000000000005, 6.94, 6.9110000000000005, 6.864, 6.791, 6.773, 6.664, 6.465, 6.455, 6.44, 6.4060000000000015, 6.401, 6.399, 6.3870000000000005, 6.377000000000002, 6.376, 6.363, 6.348, 6.325, 6.305, 6.2810000000000015, 6.257999999999999, 6.228, 6.227, 6.215, 6.192, 6.186, 6.1629999999999985, 6.159, 6.1370000000000005, 6.124, 6.102, 6.101, 6.058, 6.022, 6.006, 6.0, 5.999, 5.975, 5.9529999999999985, 5.95, 5.925, 5.9110000000000005, 5.89, 5.872000000000001, 5.871, 5.7970000000000015, 5.778, 5.747000000000001, 5.693, 5.692, 5.689, 5.674, 5.608, 5.556, 5.546, 5.546, 5.542000000000002, 5.54, 5.5360000000000005, 5.515, 5.51, 5.505, 5.489, 5.456, 5.384, 5.353, 5.2860000000000005, 5.233, 5.216, 5.198, 5.194, 5.165, 5.16, 5.148, 5.1370000000000005, 5.1320000000000014, 5.124, 5.119, 5.102, 5.095, 5.085, 5.053, 5.005, 4.981, 4.949, 4.91, 4.8889999999999985, 4.883, 4.848, 4.833, 4.829, 4.814, 4.785, 4.772, 4.769, 4.751, 4.729, 4.724, 4.677, 4.673, 4.672, 4.633, 4.624, 4.583, 4.5710000000000015, 4.561, 4.558, 4.553, 4.432, 4.423, 4.392, 4.375, 4.327, 4.311, 4.308, 4.308, 4.289, 4.187, 4.186, 4.166, 4.151, 3.926, 3.775, 3.759, 3.721, 3.653, 3.573, 3.5380000000000003, 3.527, 3.479, 3.4760000000000004, 3.4760000000000004, 3.312, 3.299, 2.817, 2.567]}],                        {\"geo\": {\"projection\": {\"type\": \"equirectangular\"}, \"showframe\": false}, \"template\": {\"data\": {\"bar\": [{\"error_x\": {\"color\": \"#2a3f5f\"}, \"error_y\": {\"color\": \"#2a3f5f\"}, \"marker\": {\"line\": {\"color\": \"#E5ECF6\", \"width\": 0.5}}, \"type\": \"bar\"}], \"barpolar\": [{\"marker\": {\"line\": {\"color\": \"#E5ECF6\", \"width\": 0.5}}, \"type\": \"barpolar\"}], \"carpet\": [{\"aaxis\": {\"endlinecolor\": \"#2a3f5f\", \"gridcolor\": \"white\", \"linecolor\": \"white\", \"minorgridcolor\": \"white\", \"startlinecolor\": \"#2a3f5f\"}, \"baxis\": {\"endlinecolor\": \"#2a3f5f\", \"gridcolor\": \"white\", \"linecolor\": \"white\", \"minorgridcolor\": \"white\", \"startlinecolor\": \"#2a3f5f\"}, \"type\": \"carpet\"}], \"choropleth\": [{\"colorbar\": {\"outlinewidth\": 0, \"ticks\": \"\"}, \"type\": \"choropleth\"}], \"contour\": [{\"colorbar\": {\"outlinewidth\": 0, \"ticks\": \"\"}, \"colorscale\": [[0.0, \"#0d0887\"], [0.1111111111111111, \"#46039f\"], [0.2222222222222222, \"#7201a8\"], [0.3333333333333333, \"#9c179e\"], [0.4444444444444444, \"#bd3786\"], [0.5555555555555556, \"#d8576b\"], [0.6666666666666666, \"#ed7953\"], [0.7777777777777778, \"#fb9f3a\"], [0.8888888888888888, \"#fdca26\"], [1.0, \"#f0f921\"]], \"type\": \"contour\"}], \"contourcarpet\": [{\"colorbar\": {\"outlinewidth\": 0, \"ticks\": \"\"}, \"type\": \"contourcarpet\"}], \"heatmap\": [{\"colorbar\": {\"outlinewidth\": 0, \"ticks\": \"\"}, \"colorscale\": [[0.0, \"#0d0887\"], [0.1111111111111111, \"#46039f\"], [0.2222222222222222, \"#7201a8\"], [0.3333333333333333, \"#9c179e\"], [0.4444444444444444, \"#bd3786\"], [0.5555555555555556, \"#d8576b\"], [0.6666666666666666, \"#ed7953\"], [0.7777777777777778, \"#fb9f3a\"], [0.8888888888888888, \"#fdca26\"], [1.0, \"#f0f921\"]], \"type\": \"heatmap\"}], \"heatmapgl\": [{\"colorbar\": {\"outlinewidth\": 0, \"ticks\": \"\"}, \"colorscale\": [[0.0, \"#0d0887\"], [0.1111111111111111, \"#46039f\"], [0.2222222222222222, \"#7201a8\"], [0.3333333333333333, \"#9c179e\"], [0.4444444444444444, \"#bd3786\"], [0.5555555555555556, \"#d8576b\"], [0.6666666666666666, \"#ed7953\"], [0.7777777777777778, \"#fb9f3a\"], [0.8888888888888888, \"#fdca26\"], [1.0, \"#f0f921\"]], \"type\": \"heatmapgl\"}], \"histogram\": [{\"marker\": {\"colorbar\": {\"outlinewidth\": 0, \"ticks\": \"\"}}, \"type\": \"histogram\"}], \"histogram2d\": [{\"colorbar\": {\"outlinewidth\": 0, \"ticks\": \"\"}, \"colorscale\": [[0.0, \"#0d0887\"], [0.1111111111111111, \"#46039f\"], [0.2222222222222222, \"#7201a8\"], [0.3333333333333333, \"#9c179e\"], [0.4444444444444444, \"#bd3786\"], [0.5555555555555556, \"#d8576b\"], [0.6666666666666666, \"#ed7953\"], [0.7777777777777778, \"#fb9f3a\"], [0.8888888888888888, \"#fdca26\"], [1.0, \"#f0f921\"]], \"type\": \"histogram2d\"}], \"histogram2dcontour\": [{\"colorbar\": {\"outlinewidth\": 0, \"ticks\": \"\"}, \"colorscale\": [[0.0, \"#0d0887\"], [0.1111111111111111, \"#46039f\"], [0.2222222222222222, \"#7201a8\"], [0.3333333333333333, \"#9c179e\"], [0.4444444444444444, \"#bd3786\"], [0.5555555555555556, \"#d8576b\"], [0.6666666666666666, \"#ed7953\"], [0.7777777777777778, \"#fb9f3a\"], [0.8888888888888888, \"#fdca26\"], [1.0, \"#f0f921\"]], \"type\": \"histogram2dcontour\"}], \"mesh3d\": [{\"colorbar\": {\"outlinewidth\": 0, \"ticks\": \"\"}, \"type\": \"mesh3d\"}], \"parcoords\": [{\"line\": {\"colorbar\": {\"outlinewidth\": 0, \"ticks\": \"\"}}, \"type\": \"parcoords\"}], \"pie\": [{\"automargin\": true, \"type\": \"pie\"}], \"scatter\": [{\"marker\": {\"colorbar\": {\"outlinewidth\": 0, \"ticks\": \"\"}}, \"type\": \"scatter\"}], \"scatter3d\": [{\"line\": {\"colorbar\": {\"outlinewidth\": 0, \"ticks\": \"\"}}, \"marker\": {\"colorbar\": {\"outlinewidth\": 0, \"ticks\": \"\"}}, \"type\": \"scatter3d\"}], \"scattercarpet\": [{\"marker\": {\"colorbar\": {\"outlinewidth\": 0, \"ticks\": \"\"}}, \"type\": \"scattercarpet\"}], \"scattergeo\": [{\"marker\": {\"colorbar\": {\"outlinewidth\": 0, \"ticks\": \"\"}}, \"type\": \"scattergeo\"}], \"scattergl\": [{\"marker\": {\"colorbar\": {\"outlinewidth\": 0, \"ticks\": \"\"}}, \"type\": \"scattergl\"}], \"scattermapbox\": [{\"marker\": {\"colorbar\": {\"outlinewidth\": 0, \"ticks\": \"\"}}, \"type\": \"scattermapbox\"}], \"scatterpolar\": [{\"marker\": {\"colorbar\": {\"outlinewidth\": 0, \"ticks\": \"\"}}, \"type\": \"scatterpolar\"}], \"scatterpolargl\": [{\"marker\": {\"colorbar\": {\"outlinewidth\": 0, \"ticks\": \"\"}}, \"type\": \"scatterpolargl\"}], \"scatterternary\": [{\"marker\": {\"colorbar\": {\"outlinewidth\": 0, \"ticks\": \"\"}}, \"type\": \"scatterternary\"}], \"surface\": [{\"colorbar\": {\"outlinewidth\": 0, \"ticks\": \"\"}, \"colorscale\": [[0.0, \"#0d0887\"], [0.1111111111111111, \"#46039f\"], [0.2222222222222222, \"#7201a8\"], [0.3333333333333333, \"#9c179e\"], [0.4444444444444444, \"#bd3786\"], [0.5555555555555556, \"#d8576b\"], [0.6666666666666666, \"#ed7953\"], [0.7777777777777778, \"#fb9f3a\"], [0.8888888888888888, \"#fdca26\"], [1.0, \"#f0f921\"]], \"type\": \"surface\"}], \"table\": [{\"cells\": {\"fill\": {\"color\": \"#EBF0F8\"}, \"line\": {\"color\": \"white\"}}, \"header\": {\"fill\": {\"color\": \"#C8D4E3\"}, \"line\": {\"color\": \"white\"}}, \"type\": \"table\"}]}, \"layout\": {\"annotationdefaults\": {\"arrowcolor\": \"#2a3f5f\", \"arrowhead\": 0, \"arrowwidth\": 1}, \"coloraxis\": {\"colorbar\": {\"outlinewidth\": 0, \"ticks\": \"\"}}, \"colorscale\": {\"diverging\": [[0, \"#8e0152\"], [0.1, \"#c51b7d\"], [0.2, \"#de77ae\"], [0.3, \"#f1b6da\"], [0.4, \"#fde0ef\"], [0.5, \"#f7f7f7\"], [0.6, \"#e6f5d0\"], [0.7, \"#b8e186\"], [0.8, \"#7fbc41\"], [0.9, \"#4d9221\"], [1, \"#276419\"]], \"sequential\": [[0.0, \"#0d0887\"], [0.1111111111111111, \"#46039f\"], [0.2222222222222222, \"#7201a8\"], [0.3333333333333333, \"#9c179e\"], [0.4444444444444444, \"#bd3786\"], [0.5555555555555556, \"#d8576b\"], [0.6666666666666666, \"#ed7953\"], [0.7777777777777778, \"#fb9f3a\"], [0.8888888888888888, \"#fdca26\"], [1.0, \"#f0f921\"]], \"sequentialminus\": [[0.0, \"#0d0887\"], [0.1111111111111111, \"#46039f\"], [0.2222222222222222, \"#7201a8\"], [0.3333333333333333, \"#9c179e\"], [0.4444444444444444, \"#bd3786\"], [0.5555555555555556, \"#d8576b\"], [0.6666666666666666, \"#ed7953\"], [0.7777777777777778, \"#fb9f3a\"], [0.8888888888888888, \"#fdca26\"], [1.0, \"#f0f921\"]]}, \"colorway\": [\"#636efa\", \"#EF553B\", \"#00cc96\", \"#ab63fa\", \"#FFA15A\", \"#19d3f3\", \"#FF6692\", \"#B6E880\", \"#FF97FF\", \"#FECB52\"], \"font\": {\"color\": \"#2a3f5f\"}, \"geo\": {\"bgcolor\": \"white\", \"lakecolor\": \"white\", \"landcolor\": \"#E5ECF6\", \"showlakes\": true, \"showland\": true, \"subunitcolor\": \"white\"}, \"hoverlabel\": {\"align\": \"left\"}, \"hovermode\": \"closest\", \"mapbox\": {\"style\": \"light\"}, \"paper_bgcolor\": \"white\", \"plot_bgcolor\": \"#E5ECF6\", \"polar\": {\"angularaxis\": {\"gridcolor\": \"white\", \"linecolor\": \"white\", \"ticks\": \"\"}, \"bgcolor\": \"#E5ECF6\", \"radialaxis\": {\"gridcolor\": \"white\", \"linecolor\": \"white\", \"ticks\": \"\"}}, \"scene\": {\"xaxis\": {\"backgroundcolor\": \"#E5ECF6\", \"gridcolor\": \"white\", \"gridwidth\": 2, \"linecolor\": \"white\", \"showbackground\": true, \"ticks\": \"\", \"zerolinecolor\": \"white\"}, \"yaxis\": {\"backgroundcolor\": \"#E5ECF6\", \"gridcolor\": \"white\", \"gridwidth\": 2, \"linecolor\": \"white\", \"showbackground\": true, \"ticks\": \"\", \"zerolinecolor\": \"white\"}, \"zaxis\": {\"backgroundcolor\": \"#E5ECF6\", \"gridcolor\": \"white\", \"gridwidth\": 2, \"linecolor\": \"white\", \"showbackground\": true, \"ticks\": \"\", \"zerolinecolor\": \"white\"}}, \"shapedefaults\": {\"line\": {\"color\": \"#2a3f5f\"}}, \"ternary\": {\"aaxis\": {\"gridcolor\": \"white\", \"linecolor\": \"white\", \"ticks\": \"\"}, \"baxis\": {\"gridcolor\": \"white\", \"linecolor\": \"white\", \"ticks\": \"\"}, \"bgcolor\": \"#E5ECF6\", \"caxis\": {\"gridcolor\": \"white\", \"linecolor\": \"white\", \"ticks\": \"\"}}, \"title\": {\"x\": 0.05}, \"xaxis\": {\"automargin\": true, \"gridcolor\": \"white\", \"linecolor\": \"white\", \"ticks\": \"\", \"title\": {\"standoff\": 15}, \"zerolinecolor\": \"white\", \"zerolinewidth\": 2}, \"yaxis\": {\"automargin\": true, \"gridcolor\": \"white\", \"linecolor\": \"white\", \"ticks\": \"\", \"title\": {\"standoff\": 15}, \"zerolinecolor\": \"white\", \"zerolinewidth\": 2}}}, \"title\": {\"text\": \"Global Happiness Score\"}},                        {\"responsive\": true}                    ).then(function(){\n",
       "                            \n",
       "var gd = document.getElementById('8d9b360d-ddfa-4c57-9a14-f2b6124459ef');\n",
       "var x = new MutationObserver(function (mutations, observer) {{\n",
       "        var display = window.getComputedStyle(gd).display;\n",
       "        if (!display || display === 'none') {{\n",
       "            console.log([gd, 'removed!']);\n",
       "            Plotly.purge(gd);\n",
       "            observer.disconnect();\n",
       "        }}\n",
       "}});\n",
       "\n",
       "// Listen for the removal of the full notebook cells\n",
       "var notebookContainer = gd.closest('#notebook-container');\n",
       "if (notebookContainer) {{\n",
       "    x.observe(notebookContainer, {childList: true});\n",
       "}}\n",
       "\n",
       "// Listen for the clearing of the current output cell\n",
       "var outputEl = gd.closest('.output');\n",
       "if (outputEl) {{\n",
       "    x.observe(outputEl, {childList: true});\n",
       "}}\n",
       "\n",
       "                        })                };                });            </script>        </div>"
      ]
     },
     "metadata": {},
     "output_type": "display_data"
    }
   ],
   "source": [
    "#Representing the countries with their happiness score projected on the world map\n",
    "#By placing the cursor on the country we get its corresponding Happiness Score\n",
    "import plotly.graph_objs as go\n",
    "from plotly.offline import download_plotlyjs, init_notebook_mode, plot, iplot\n",
    "\n",
    "init_notebook_mode(connected=True)\n",
    "\n",
    "data = dict(type = 'choropleth', \n",
    "            autocolorscale = True,\n",
    "            reversescale = True,\n",
    "           locations = df_final['Country or region'],\n",
    "           locationmode = 'country names',\n",
    "           z = df_final['Score'], \n",
    "           text = df_final['Country or region'],\n",
    "           colorbar = {'title':'Happiness Score'})\n",
    "layout = dict(title = 'Global Happiness Score', \n",
    "             geo = dict(showframe = False, \n",
    "                       projection = {'type': 'equirectangular'}))\n",
    "\n",
    "\n",
    "colormap = go.Figure(data = [data], layout=layout)\n",
    "iplot(colormap)"
   ]
  },
  {
   "cell_type": "markdown",
   "metadata": {},
   "source": [
    "# BarPlot"
   ]
  },
  {
   "cell_type": "code",
   "execution_count": 14,
   "metadata": {},
   "outputs": [
    {
     "data": {
      "text/plain": [
       "<matplotlib.legend.Legend at 0x2a8e9763fc8>"
      ]
     },
     "execution_count": 14,
     "metadata": {},
     "output_type": "execute_result"
    },
    {
     "data": {
      "image/png": "[encoded data removed]",
      "text/plain": [
       "<Figure size 1800x1080 with 1 Axes>"
      ]
     },
     "metadata": {
      "needs_background": "light"
     },
     "output_type": "display_data"
    }
   ],
   "source": [
    "#Plot the distribution of happiness score per country\n",
    "plt.figure(figsize=(25,15))\n",
    "sns.barplot(x=df_final['Country or region'], y=df_final['Score'])\n",
    "plt.xlabel(\"Countries\")\n",
    "plt.ylabel(\"Happiness Score\")\n",
    "plt.title(\"Distribution of happiness score per country\")\n",
    "plt.xticks(rotation=90)\n",
    "plt.legend(labels=['Happiness Score'])"
   ]
  },
  {
   "cell_type": "markdown",
   "metadata": {},
   "source": [
    "# Statistical analysis"
   ]
  },
  {
   "cell_type": "code",
   "execution_count": 16,
   "metadata": {},
   "outputs": [
    {
     "name": "stdout",
     "output_type": "stream",
     "text": [
      "Ten least happy countries are as follows:\n",
      "                    India\n",
      "                   Malawi\n",
      "                    Yemen\n",
      "                 Botswana\n",
      "                 Tanzania\n",
      " Central African Republic\n",
      "                   Rwanda\n",
      "                 Zimbabwe\n",
      "              South Sudan\n",
      "              Afghanistan\n"
     ]
    }
   ],
   "source": [
    "#Find 10 least happy countries.\n",
    "print(\"Ten least happy countries are as follows:\")\n",
    "print(df_final['Country or region'].tail(10).to_string(index=False))"
   ]
  },
  {
   "cell_type": "code",
   "execution_count": 17,
   "metadata": {},
   "outputs": [
    {
     "name": "stdout",
     "output_type": "stream",
     "text": [
      "The average of happiness is 5.473254901960783\n"
     ]
    }
   ],
   "source": [
    "#What is the average of happiness?\n",
    "print(\"The average of happiness is {}\".format(df_final['Score'].mean()))"
   ]
  },
  {
   "cell_type": "code",
   "execution_count": 18,
   "metadata": {},
   "outputs": [
    {
     "name": "stdout",
     "output_type": "stream",
     "text": [
      "The median of happiness score is\n",
      "5.515\n",
      "Countries above median of happiness score are as follows:\n",
      "Finland\n",
      "Denmark\n",
      "Switzerland\n",
      "Iceland\n",
      "Norway\n",
      "Netherlands\n",
      "Sweden\n",
      "New Zealand\n",
      "Austria\n",
      "Luxembourg\n",
      "Canada\n",
      "Australia\n",
      "United Kingdom\n",
      "Israel\n",
      "Costa Rica\n",
      "Ireland\n",
      "Germany\n",
      "United States\n",
      "Czech Republic\n",
      "Belgium\n",
      "United Arab Emirates\n",
      "Malta\n",
      "France\n",
      "Mexico\n",
      "Taiwan\n",
      "Uruguay\n",
      "Saudi Arabia\n",
      "Spain\n",
      "Guatemala\n",
      "Italy\n",
      "Singapore\n",
      "Brazil\n",
      "Slovenia\n",
      "El Salvador\n",
      "Kosovo\n",
      "Panama\n",
      "Slovakia\n",
      "Uzbekistan\n",
      "Chile\n",
      "Bahrain\n",
      "Lithuania\n",
      "Trinidad and Tobago\n",
      "Poland\n",
      "Colombia\n",
      "Cyprus\n",
      "Nicaragua\n",
      "Romania\n",
      "Kuwait\n",
      "Mauritius\n",
      "Kazakhstan\n",
      "Estonia\n",
      "Philippines\n",
      "Hungary\n",
      "Thailand\n",
      "Argentina\n",
      "Honduras\n",
      "Latvia\n",
      "Ecuador\n",
      "Portugal\n",
      "Jamaica\n",
      "South Korea\n",
      "Japan\n",
      "Peru\n",
      "Serbia\n",
      "Bolivia\n",
      "Pakistan\n",
      "Paraguay\n",
      "Dominican Republic\n",
      "Bosnia and Herzegovina\n",
      "Moldova\n",
      "Tajikistan\n",
      "Montenegro\n",
      "Russia\n",
      "Kyrgyzstan\n",
      "Belarus\n",
      "North Cyprus\n"
     ]
    }
   ],
   "source": [
    "#What are the countries above the median?\n",
    "print(\"The median of happiness score is\")\n",
    "median = df_final['Score'].median()\n",
    "print(median)\n",
    "itr = 0\n",
    "print(\"Countries above median of happiness score are as follows:\")\n",
    "for item in df_final['Score']:\n",
    "    if item > median:\n",
    "        print(df_final['Country or region'][itr])\n",
    "    itr = itr +1  "
   ]
  },
  {
   "cell_type": "code",
   "execution_count": 19,
   "metadata": {},
   "outputs": [
    {
     "data": {
      "text/plain": [
       "<matplotlib.legend.Legend at 0x2a8ee5da0c8>"
      ]
     },
     "execution_count": 19,
     "metadata": {},
     "output_type": "execute_result"
    },
    {
     "data": {
      "image/png": "[encoded data removed]",
      "text/plain": [
       "<Figure size 432x288 with 1 Axes>"
      ]
     },
     "metadata": {
      "needs_background": "light"
     },
     "output_type": "display_data"
    }
   ],
   "source": [
    "#Correlation between Happiness Score and life expectancy\n",
    "new = df_final.filter(['Healthy life expectancy','Score'], axis=1)\n",
    "fig = sns.regplot(x='Healthy life expectancy',y='Score',data=new)\n",
    "plt.xlabel(\"Healthy life expectancy\")\n",
    "plt.ylabel(\"Happiness Score\")\n",
    "plt.title(\"Correlation between Healthy life expectancy and happiness score\")\n",
    "plt.legend(labels=['corr (life expectancy and happiness score)'])"
   ]
  },
  {
   "cell_type": "code",
   "execution_count": null,
   "metadata": {},
   "outputs": [],
   "source": []
  }
 ],
 "metadata": {
  "kernelspec": {
   "display_name": "Python 3",
   "language": "python",
   "name": "python3"
  },
  "language_info": {
   "codemirror_mode": {
    "name": "ipython",
    "version": 3
   },
   "file_extension": ".py",
   "mimetype": "text/x-python",
   "name": "python",
   "nbconvert_exporter": "python",
   "pygments_lexer": "ipython3",
   "version": "3.7.9"
  }
 },
 "nbformat": 4,
 "nbformat_minor": 4
}
